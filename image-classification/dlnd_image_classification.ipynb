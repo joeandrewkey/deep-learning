{
 "cells": [
  {
   "cell_type": "markdown",
   "metadata": {
    "collapsed": true
   },
   "source": [
    "# Image Classification\n",
    "In this project, you'll classify images from the [CIFAR-10 dataset](https://www.cs.toronto.edu/~kriz/cifar.html).  The dataset consists of airplanes, dogs, cats, and other objects. You'll preprocess the images, then train a convolutional neural network on all the samples. The images need to be normalized and the labels need to be one-hot encoded.  You'll get to apply what you learned and build a convolutional, max pooling, dropout, and fully connected layers.  At the end, you'll get to see your neural network's predictions on the sample images.\n",
    "## Get the Data\n",
    "Run the following cell to download the [CIFAR-10 dataset for python](https://www.cs.toronto.edu/~kriz/cifar-10-python.tar.gz)."
   ]
  },
  {
   "cell_type": "code",
   "execution_count": 1,
   "metadata": {},
   "outputs": [
    {
     "name": "stdout",
     "output_type": "stream",
     "text": [
      "All files found!\n"
     ]
    }
   ],
   "source": [
    "\"\"\"\n",
    "DON'T MODIFY ANYTHING IN THIS CELL THAT IS BELOW THIS LINE\n",
    "\"\"\"\n",
    "from urllib.request import urlretrieve\n",
    "from os.path import isfile, isdir\n",
    "from tqdm import tqdm\n",
    "import problem_unittests as tests\n",
    "import tarfile\n",
    "\n",
    "cifar10_dataset_folder_path = 'cifar-10-batches-py'\n",
    "\n",
    "# Use Floyd's cifar-10 dataset if present\n",
    "floyd_cifar10_location = '/input/cifar-10/python.tar.gz'\n",
    "if isfile(floyd_cifar10_location):\n",
    "    tar_gz_path = floyd_cifar10_location\n",
    "else:\n",
    "    tar_gz_path = 'cifar-10-python.tar.gz'\n",
    "\n",
    "class DLProgress(tqdm):\n",
    "    last_block = 0\n",
    "\n",
    "    def hook(self, block_num=1, block_size=1, total_size=None):\n",
    "        self.total = total_size\n",
    "        self.update((block_num - self.last_block) * block_size)\n",
    "        self.last_block = block_num\n",
    "\n",
    "if not isfile(tar_gz_path):\n",
    "    with DLProgress(unit='B', unit_scale=True, miniters=1, desc='CIFAR-10 Dataset') as pbar:\n",
    "        urlretrieve(\n",
    "            'https://www.cs.toronto.edu/~kriz/cifar-10-python.tar.gz',\n",
    "            tar_gz_path,\n",
    "            pbar.hook)\n",
    "\n",
    "if not isdir(cifar10_dataset_folder_path):\n",
    "    with tarfile.open(tar_gz_path) as tar:\n",
    "        tar.extractall()\n",
    "        tar.close()\n",
    "\n",
    "\n",
    "tests.test_folder_path(cifar10_dataset_folder_path)"
   ]
  },
  {
   "cell_type": "markdown",
   "metadata": {},
   "source": [
    "## Explore the Data\n",
    "The dataset is broken into batches to prevent your machine from running out of memory.  The CIFAR-10 dataset consists of 5 batches, named `data_batch_1`, `data_batch_2`, etc.. Each batch contains the labels and images that are one of the following:\n",
    "* airplane\n",
    "* automobile\n",
    "* bird\n",
    "* cat\n",
    "* deer\n",
    "* dog\n",
    "* frog\n",
    "* horse\n",
    "* ship\n",
    "* truck\n",
    "\n",
    "Understanding a dataset is part of making predictions on the data.  Play around with the code cell below by changing the `batch_id` and `sample_id`. The `batch_id` is the id for a batch (1-5). The `sample_id` is the id for a image and label pair in the batch.\n",
    "\n",
    "Ask yourself \"What are all possible labels?\", \"What is the range of values for the image data?\", \"Are the labels in order or random?\".  Answers to questions like these will help you preprocess the data and end up with better predictions."
   ]
  },
  {
   "cell_type": "code",
   "execution_count": 2,
   "metadata": {},
   "outputs": [
    {
     "name": "stdout",
     "output_type": "stream",
     "text": [
      "\n",
      "Stats of batch 1:\n",
      "Samples: 10000\n",
      "Label Counts: {0: 1005, 1: 974, 2: 1032, 3: 1016, 4: 999, 5: 937, 6: 1030, 7: 1001, 8: 1025, 9: 981}\n",
      "First 20 Labels: [6, 9, 9, 4, 1, 1, 2, 7, 8, 3, 4, 7, 7, 2, 9, 9, 9, 3, 2, 6]\n",
      "\n",
      "Example of Image 6:\n",
      "Image - Min Value: 7 Max Value: 249\n",
      "Image - Shape: (32, 32, 3)\n",
      "Label - Label Id: 2 Name: bird\n"
     ]
    },
    {
     "data": {
      "image/png": "[encoded data removed]",
      "text/plain": [
       "<matplotlib.figure.Figure at 0x7f38eaaf8b70>"
      ]
     },
     "metadata": {
      "image/png": {
       "height": 250,
       "width": 253
      }
     },
     "output_type": "display_data"
    }
   ],
   "source": [
    "%matplotlib inline\n",
    "%config InlineBackend.figure_format = 'retina'\n",
    "\n",
    "import helper\n",
    "import numpy as np\n",
    "from sklearn.preprocessing import LabelBinarizer\n",
    "\n",
    "# Explore the dataset\n",
    "batch_id = 1\n",
    "sample_id = 6\n",
    "helper.display_stats(cifar10_dataset_folder_path, batch_id, sample_id)\n",
    "features, labels = helper.load_cfar10_batch(cifar10_dataset_folder_path, batch_id)\n",
    "\n",
    "\n",
    "\n",
    "unique, counts = np.unique(labels, return_counts=True)\n",
    "buckets = dict(zip(labels, counts))\n",
    "\n",
    "\n",
    "\n",
    "label_text2id = {\n",
    "    \"airplane\": 0,\n",
    "    \"automobile\": 1,\n",
    "    \"bird\": 2,\n",
    "    \"cat\": 3,\n",
    "    \"deer\": 4,\n",
    "    \"dog\": 5,\n",
    "    \"frog\": 6,\n",
    "    \"horse\": 7,\n",
    "    \"ship\": 8,\n",
    "    \"truck\": 9\n",
    "}\n",
    "\n",
    "label_id2text = { v: k for k, v in label_text2id.items() }\n",
    "#print(label_id2text)"
   ]
  },
  {
   "cell_type": "markdown",
   "metadata": {},
   "source": [
    "## Implement Preprocess Functions\n",
    "### Normalize\n",
    "In the cell below, implement the `normalize` function to take in image data, `x`, and return it as a normalized Numpy array. The values should be in the range of 0 to 1, inclusive.  The return object should be the same shape as `x`."
   ]
  },
  {
   "cell_type": "code",
   "execution_count": 3,
   "metadata": {},
   "outputs": [
    {
     "name": "stdout",
     "output_type": "stream",
     "text": [
      "Tests Passed\n"
     ]
    }
   ],
   "source": [
    "def normalize(x):\n",
    "    \"\"\"\n",
    "    Normalize a list of sample image data in the range of 0 to 1\n",
    "    : x: List of image data.  The image shape is (32, 32, 3)\n",
    "    : return: Numpy array of normalize data\n",
    "    \"\"\"\n",
    "    # TODO: Implement Function\n",
    "    # Apply normalization over the entire numpy array (fast)\n",
    "    possible_values = 256\n",
    "    return x / possible_values\n",
    "\n",
    "    #Using loops (slow)\n",
    "    #for i in range(b.size):\n",
    "    #    b[i] = b[i] / (max_val + 1)\n",
    "    #return x\n",
    "\n",
    "\"\"\"\n",
    "DON'T MODIFY ANYTHING IN THIS CELL THAT IS BELOW THIS LINE\n",
    "\"\"\"\n",
    "tests.test_normalize(normalize)"
   ]
  },
  {
   "cell_type": "markdown",
   "metadata": {},
   "source": [
    "### One-hot encode\n",
    "Just like the previous code cell, you'll be implementing a function for preprocessing.  This time, you'll implement the `one_hot_encode` function. The input, `x`, are a list of labels.  Implement the function to return the list of labels as One-Hot encoded Numpy array.  The possible values for labels are 0 to 9. The one-hot encoding function should return the same encoding for each value between each call to `one_hot_encode`.  Make sure to save the map of encodings outside the function.\n",
    "\n",
    "Hint: Don't reinvent the wheel."
   ]
  },
  {
   "cell_type": "code",
   "execution_count": 4,
   "metadata": {},
   "outputs": [
    {
     "name": "stdout",
     "output_type": "stream",
     "text": [
      "Tests Passed\n"
     ]
    }
   ],
   "source": [
    "from sklearn import preprocessing\n",
    "def one_hot_encode(x):\n",
    "    \"\"\"\n",
    "    One hot encode a list of sample labels. Return a one-hot encoded vector for each label.\n",
    "    : x: List of sample Labels\n",
    "    : return: Numpy array of one-hot encoded labels\n",
    "    \"\"\"\n",
    "    # TODO: Implement Function\n",
    "    labels = np.array(x)\n",
    "    lb = preprocessing.LabelBinarizer()\n",
    "    lb.fit(labels)\n",
    "    lb.classes_ = [0, 1, 2, 3, 4, 5, 6, 7, 8, 9]\n",
    "    return lb.transform(labels)\n",
    "    #y = np.zeros((len(x), 10))\n",
    "    #for i in range(len(x)):\n",
    "        #print(x[i])\n",
    "    #    y[i][x[i]] = 1\n",
    "        #print(y[i])\n",
    "    #return y\n",
    "\n",
    "\n",
    "\"\"\"\n",
    "DON'T MODIFY ANYTHING IN THIS CELL THAT IS BELOW THIS LINE\n",
    "\"\"\"\n",
    "tests.test_one_hot_encode(one_hot_encode)"
   ]
  },
  {
   "cell_type": "markdown",
   "metadata": {},
   "source": [
    "### Randomize Data\n",
    "As you saw from exploring the data above, the order of the samples are randomized.  It doesn't hurt to randomize it again, but you don't need to for this dataset."
   ]
  },
  {
   "cell_type": "markdown",
   "metadata": {},
   "source": [
    "## Preprocess all the data and save it\n",
    "Running the code cell below will preprocess all the CIFAR-10 data and save it to file. The code below also uses 10% of the training data for validation."
   ]
  },
  {
   "cell_type": "code",
   "execution_count": 5,
   "metadata": {},
   "outputs": [],
   "source": [
    "\"\"\"\n",
    "DON'T MODIFY ANYTHING IN THIS CELL\n",
    "\"\"\"\n",
    "# Preprocess Training, Validation, and Testing Data\n",
    "helper.preprocess_and_save_data(cifar10_dataset_folder_path, normalize, one_hot_encode)"
   ]
  },
  {
   "cell_type": "markdown",
   "metadata": {},
   "source": [
    "# Check Point\n",
    "This is your first checkpoint.  If you ever decide to come back to this notebook or have to restart the notebook, you can start from here.  The preprocessed data has been saved to disk."
   ]
  },
  {
   "cell_type": "code",
   "execution_count": 6,
   "metadata": {
    "collapsed": true
   },
   "outputs": [],
   "source": [
    "\"\"\"\n",
    "DON'T MODIFY ANYTHING IN THIS CELL\n",
    "\"\"\"\n",
    "import pickle\n",
    "import problem_unittests as tests\n",
    "import helper\n",
    "\n",
    "# Load the Preprocessed Validation data\n",
    "valid_features, valid_labels = pickle.load(open('preprocess_validation.p', mode='rb'))"
   ]
  },
  {
   "cell_type": "markdown",
   "metadata": {},
   "source": [
    "## Build the network\n",
    "For the neural network, you'll build each layer into a function.  Most of the code you've seen has been outside of functions. To test your code more thoroughly, we require that you put each layer in a function.  This allows us to give you better feedback and test for simple mistakes using our unittests before you submit your project.\n",
    "\n",
    ">**Note:** If you're finding it hard to dedicate enough time for this course each week, we've provided a small shortcut to this part of the project. In the next couple of problems, you'll have the option to use classes from the [TensorFlow Layers](https://www.tensorflow.org/api_docs/python/tf/layers) or [TensorFlow Layers (contrib)](https://www.tensorflow.org/api_guides/python/contrib.layers) packages to build each layer, except the layers you build in the \"Convolutional and Max Pooling Layer\" section.  TF Layers is similar to Keras's and TFLearn's abstraction to layers, so it's easy to pickup.\n",
    "\n",
    ">However, if you would like to get the most out of this course, try to solve all the problems _without_ using anything from the TF Layers packages. You **can** still use classes from other packages that happen to have the same name as ones you find in TF Layers! For example, instead of using the TF Layers version of the `conv2d` class, [tf.layers.conv2d](https://www.tensorflow.org/api_docs/python/tf/layers/conv2d), you would want to use the TF Neural Network version of `conv2d`, [tf.nn.conv2d](https://www.tensorflow.org/api_docs/python/tf/nn/conv2d). \n",
    "\n",
    "Let's begin!\n",
    "\n",
    "### Input\n",
    "The neural network needs to read the image data, one-hot encoded labels, and dropout keep probability. Implement the following functions\n",
    "* Implement `neural_net_image_input`\n",
    " * Return a [TF Placeholder](https://www.tensorflow.org/api_docs/python/tf/placeholder)\n",
    " * Set the shape using `image_shape` with batch size set to `None`.\n",
    " * Name the TensorFlow placeholder \"x\" using the TensorFlow `name` parameter in the [TF Placeholder](https://www.tensorflow.org/api_docs/python/tf/placeholder).\n",
    "* Implement `neural_net_label_input`\n",
    " * Return a [TF Placeholder](https://www.tensorflow.org/api_docs/python/tf/placeholder)\n",
    " * Set the shape using `n_classes` with batch size set to `None`.\n",
    " * Name the TensorFlow placeholder \"y\" using the TensorFlow `name` parameter in the [TF Placeholder](https://www.tensorflow.org/api_docs/python/tf/placeholder).\n",
    "* Implement `neural_net_keep_prob_input`\n",
    " * Return a [TF Placeholder](https://www.tensorflow.org/api_docs/python/tf/placeholder) for dropout keep probability.\n",
    " * Name the TensorFlow placeholder \"keep_prob\" using the TensorFlow `name` parameter in the [TF Placeholder](https://www.tensorflow.org/api_docs/python/tf/placeholder).\n",
    "\n",
    "These names will be used at the end of the project to load your saved model.\n",
    "\n",
    "Note: `None` for shapes in TensorFlow allow for a dynamic size."
   ]
  },
  {
   "cell_type": "code",
   "execution_count": 7,
   "metadata": {},
   "outputs": [
    {
     "name": "stdout",
     "output_type": "stream",
     "text": [
      "Image Input Tests Passed.\n",
      "Label Input Tests Passed.\n",
      "Keep Prob Tests Passed.\n"
     ]
    }
   ],
   "source": [
    "import tensorflow as tf\n",
    "#Also seen in 11.30\n",
    "def neural_net_image_input(image_shape):\n",
    "    \"\"\"\n",
    "    Return a Tensor for a batch of image input\n",
    "    : image_shape: Shape of the images\n",
    "    : return: Tensor for image input.\n",
    "    \"\"\"\n",
    "    # Tensor of floats for an unbounded list of tensors (32, 32, 3), named x\n",
    "    \n",
    "    return tf.placeholder(tf.float32, (None, image_shape[0], image_shape[1], image_shape[2]), name=\"x\")\n",
    "\n",
    "def neural_net_label_input(n_classes):\n",
    "    \"\"\"\n",
    "    Return a Tensor for a batch of label input\n",
    "    : n_classes: Number of classes\n",
    "    : return: Tensor for label input.\n",
    "    \"\"\"\n",
    "    # Tensor of floats for an unbounded list of tensors (n_classes), named y\n",
    "    return tf.placeholder(tf.float32, (None, n_classes), name=\"y\")\n",
    "\n",
    "def neural_net_keep_prob_input():\n",
    "    \"\"\"\n",
    "    Return a Tensor for keep probability\n",
    "    : return: Tensor for keep probability.\n",
    "    \"\"\"\n",
    "    # A simple float placeholder to hold our variable \"keep_prob\"\n",
    "    return tf.placeholder(tf.float32, name=\"keep_prob\")\n",
    "\n",
    "\"\"\"\n",
    "DON'T MODIFY ANYTHING IN THIS CELL THAT IS BELOW THIS LINE\n",
    "\"\"\"\n",
    "tf.reset_default_graph()\n",
    "tests.test_nn_image_inputs(neural_net_image_input)\n",
    "tests.test_nn_label_inputs(neural_net_label_input)\n",
    "tests.test_nn_keep_prob_inputs(neural_net_keep_prob_input)"
   ]
  },
  {
   "cell_type": "markdown",
   "metadata": {},
   "source": [
    "### Convolution and Max Pooling Layer\n",
    "Convolution layers have a lot of success with images. For this code cell, you should implement the function `conv2d_maxpool` to apply convolution then max pooling:\n",
    "* Create the weight and bias using `conv_ksize`, `conv_num_outputs` and the shape of `x_tensor`.\n",
    "* Apply a convolution to `x_tensor` using weight and `conv_strides`.\n",
    " * We recommend you use same padding, but you're welcome to use any padding.\n",
    "* Add bias\n",
    "* Add a nonlinear activation to the convolution.\n",
    "* Apply Max Pooling using `pool_ksize` and `pool_strides`.\n",
    " * We recommend you use same padding, but you're welcome to use any padding.\n",
    "\n",
    "**Note:** You **can't** use [TensorFlow Layers](https://www.tensorflow.org/api_docs/python/tf/layers) or [TensorFlow Layers (contrib)](https://www.tensorflow.org/api_guides/python/contrib.layers) for **this** layer, but you can still use TensorFlow's [Neural Network](https://www.tensorflow.org/api_docs/python/tf/nn) package. You may still use the shortcut option for all the **other** layers."
   ]
  },
  {
   "cell_type": "code",
   "execution_count": 8,
   "metadata": {},
   "outputs": [
    {
     "name": "stdout",
     "output_type": "stream",
     "text": [
      "Tests Passed\n"
     ]
    }
   ],
   "source": [
    "def conv2d_maxpool(x_tensor, conv_num_outputs, conv_ksize, conv_strides, pool_ksize, pool_strides):\n",
    "    \"\"\"\n",
    "    Apply convolution then max pooling to x_tensor\n",
    "    :param x_tensor: TensorFlow Tensor\n",
    "    :param conv_num_outputs: Number of outputs for the convolutional layer\n",
    "    :param conv_ksize: kernal size 2-D Tuple for the convolutional layer\n",
    "    :param conv_strides: Stride 2-D Tuple for convolution\n",
    "    :param pool_ksize: kernal size 2-D Tuple for pool\n",
    "    :param pool_strides: Stride 2-D Tuple for pool\n",
    "    : return: A tensor that represents convolution and max pooling of x_tensor\n",
    "    \"\"\"\n",
    "    # TODO: Implement Function\n",
    "    # Grab the dimensions as a list\n",
    "    dims = [i.value for i in x_tensor.shape]\n",
    "    # Use the final three dimensions to describe the weights dimension, adding a dimension for the\n",
    "    # number of outputs\n",
    "    #print(dims)\n",
    "    #print(\"conv_ksize: {0}\".format(conv_ksize))\n",
    "    #W = tf.Variable(tf.random_normal([dims[1], dims[2], dims[3], conv_num_outputs]))\n",
    "    W = tf.Variable(tf.truncated_normal([conv_ksize[0], conv_ksize[1], x_tensor.shape[3].value\n",
    "        , conv_num_outputs],stddev=0.01))\n",
    "    #print(\"x_tensor.shape {0}\".format(x_tensor.shape))\n",
    "    #print(\"W.shape {0}\".format(W.shape))\n",
    "    # the biases are just the number of convolution outputs\n",
    "    b = tf.Variable(tf.random_normal([conv_num_outputs]))\n",
    "    # you need to convert conv_strides to a list of 4 parts\n",
    "    # Make a 2d convolution, with weights and strides as a 4 element list, with 'SAME' padding\n",
    "    x = tf.nn.conv2d(x_tensor, W, [1, conv_strides[0], conv_strides[1], 1], padding='SAME')\n",
    "    # Add the biases\n",
    "    x = tf.nn.bias_add(x, b)\n",
    "    # Apploy a REctified Linear Unit (nonlinear activation)\n",
    "    x = tf.nn.relu(x)\n",
    "    #Apply a max pooling using pool_ksize and pool_strides\n",
    "    x = tf.nn.max_pool(x, \n",
    "        ksize=[1, pool_ksize[0], pool_ksize[1], 1],\n",
    "        strides=[1, pool_strides[0], pool_strides[1], 1], padding='SAME')\n",
    "    return x\n",
    "\n",
    "\n",
    "\"\"\"\n",
    "DON'T MODIFY ANYTHING IN THIS CELL THAT IS BELOW THIS LINE\n",
    "\"\"\"\n",
    "tests.test_con_pool(conv2d_maxpool)"
   ]
  },
  {
   "cell_type": "markdown",
   "metadata": {},
   "source": [
    "### Flatten Layer\n",
    "Implement the `flatten` function to change the dimension of `x_tensor` from a 4-D tensor to a 2-D tensor.  The output should be the shape (*Batch Size*, *Flattened Image Size*). Shortcut option: you can use classes from the [TensorFlow Layers](https://www.tensorflow.org/api_docs/python/tf/layers) or [TensorFlow Layers (contrib)](https://www.tensorflow.org/api_guides/python/contrib.layers) packages for this layer. For more of a challenge, only use other TensorFlow packages."
   ]
  },
  {
   "cell_type": "code",
   "execution_count": 9,
   "metadata": {},
   "outputs": [
    {
     "name": "stdout",
     "output_type": "stream",
     "text": [
      "Tests Passed\n"
     ]
    }
   ],
   "source": [
    "from tensorflow.contrib.layers import flatten as contrib_flatten\n",
    "def flatten(x_tensor):\n",
    "    \"\"\"\n",
    "    Flatten x_tensor to (Batch Size, Flattened Image Size)\n",
    "    : x_tensor: A tensor of size (Batch Size, ...), where ... are the image dimensions.\n",
    "    : return: A tensor of size (Batch Size, Flattened Image Size).\n",
    "    \"\"\"\n",
    "    # TODO: Implement Function\n",
    "    return contrib_flatten(x_tensor)\n",
    "\n",
    "\n",
    "\"\"\"\n",
    "DON'T MODIFY ANYTHING IN THIS CELL THAT IS BELOW THIS LINE\n",
    "\"\"\"\n",
    "tests.test_flatten(flatten)"
   ]
  },
  {
   "cell_type": "markdown",
   "metadata": {},
   "source": [
    "### Fully-Connected Layer\n",
    "Implement the `fully_conn` function to apply a fully connected layer to `x_tensor` with the shape (*Batch Size*, *num_outputs*). Shortcut option: you can use classes from the [TensorFlow Layers](https://www.tensorflow.org/api_docs/python/tf/layers) or [TensorFlow Layers (contrib)](https://www.tensorflow.org/api_guides/python/contrib.layers) packages for this layer. For more of a challenge, only use other TensorFlow packages."
   ]
  },
  {
   "cell_type": "code",
   "execution_count": 10,
   "metadata": {},
   "outputs": [
    {
     "name": "stdout",
     "output_type": "stream",
     "text": [
      "Tests Passed\n"
     ]
    }
   ],
   "source": [
    "from tensorflow.contrib.layers import fully_connected\n",
    "def fully_conn(x_tensor, num_outputs):\n",
    "    \"\"\"\n",
    "    Apply a fully connected layer to x_tensor using weight and bias\n",
    "    : x_tensor: A 2-D tensor where the first dimension is batch size.\n",
    "    : num_outputs: The number of output that the new tensor should be.\n",
    "    : return: A 2-D tensor where the second dimension is num_outputs.\n",
    "    \"\"\"\n",
    "    # TODO: Implement Function\n",
    "    return fully_connected(x_tensor, num_outputs)\n",
    "    # return None\n",
    "\n",
    "\n",
    "\"\"\"\n",
    "DON'T MODIFY ANYTHING IN THIS CELL THAT IS BELOW THIS LINE\n",
    "\"\"\"\n",
    "tests.test_fully_conn(fully_conn)"
   ]
  },
  {
   "cell_type": "markdown",
   "metadata": {},
   "source": [
    "### Output Layer\n",
    "Implement the `output` function to apply a fully connected layer to `x_tensor` with the shape (*Batch Size*, *num_outputs*). Shortcut option: you can use classes from the [TensorFlow Layers](https://www.tensorflow.org/api_docs/python/tf/layers) or [TensorFlow Layers (contrib)](https://www.tensorflow.org/api_guides/python/contrib.layers) packages for this layer. For more of a challenge, only use other TensorFlow packages.\n",
    "\n",
    "**Note:** Activation, softmax, or cross entropy should **not** be applied to this."
   ]
  },
  {
   "cell_type": "code",
   "execution_count": 11,
   "metadata": {},
   "outputs": [
    {
     "name": "stdout",
     "output_type": "stream",
     "text": [
      "Tests Passed\n"
     ]
    }
   ],
   "source": [
    "def output(x_tensor, num_outputs):\n",
    "    \"\"\"\n",
    "    Apply a output layer to x_tensor using weight and bias\n",
    "    : x_tensor: A 2-D tensor where the first dimension is batch size.\n",
    "    : num_outputs: The number of output that the new tensor should be.\n",
    "    : return: A 2-D tensor where the second dimension is num_outputs.\n",
    "    \"\"\"\n",
    "    # Lesson 11 part 30\n",
    "    dims = [i.value for i in x_tensor.shape]\n",
    "    W = tf.Variable(tf.random_normal([dims[-1], num_outputs]))\n",
    "    b = tf.Variable(tf.random_normal([num_outputs]))\n",
    "    # Linear combination of inputs and weights, then add the bias\n",
    "    return tf.add(tf.matmul(x_tensor, W), b)\n",
    "\n",
    "\n",
    "\n",
    "\"\"\"\n",
    "DON'T MODIFY ANYTHING IN THIS CELL THAT IS BELOW THIS LINE\n",
    "\"\"\"\n",
    "tests.test_output(output)"
   ]
  },
  {
   "cell_type": "markdown",
   "metadata": {},
   "source": [
    "### Create Convolutional Model\n",
    "Implement the function `conv_net` to create a convolutional neural network model. The function takes in a batch of images, `x`, and outputs logits.  Use the layers you created above to create this model:\n",
    "\n",
    "* Apply 1, 2, or 3 Convolution and Max Pool layers\n",
    "* Apply a Flatten Layer\n",
    "* Apply 1, 2, or 3 Fully Connected Layers\n",
    "* Apply an Output Layer\n",
    "* Return the output\n",
    "* Apply [TensorFlow's Dropout](https://www.tensorflow.org/api_docs/python/tf/nn/dropout) to one or more layers in the model using `keep_prob`. "
   ]
  },
  {
   "cell_type": "code",
   "execution_count": 46,
   "metadata": {},
   "outputs": [
    {
     "name": "stdout",
     "output_type": "stream",
     "text": [
      "Neural Network Built!\n"
     ]
    }
   ],
   "source": [
    "def conv_net(x, keep_prob):\n",
    "    \"\"\"\n",
    "    Create a convolutional neural network model\n",
    "    : x: Placeholder tensor that holds image data.\n",
    "    : keep_prob: Placeholder tensor that hold dropout keep probability.\n",
    "    : return: Tensor that represents logits\n",
    "    \"\"\"\n",
    "    # local variables\n",
    "    #conv_num_outputs = 32\n",
    "    conv_ksize = (5, 5)\n",
    "    conv_strides = (2, 2)\n",
    "    pool_ksize = (2, 2)\n",
    "    pool_strides = (2, 2)\n",
    "    #num_outputs = 10\n",
    "    # TODO: Apply 1, 2, or 3 Convolution and Max Pool layers\n",
    "    #    Play around with different number of outputs, kernel size and stride\n",
    "    # Function Definition from Above:\n",
    "    #    conv2d_maxpool(x_tensor, conv_num_outputs, conv_ksize, conv_strides, pool_ksize, pool_strides)\n",
    "    x = conv2d_maxpool(x, 32, conv_ksize, conv_strides, pool_ksize, pool_strides)\n",
    "    x = conv2d_maxpool(x, 64, conv_ksize, conv_strides, pool_ksize, pool_strides)    \n",
    "    # TODO: Apply a Flatten Layer\n",
    "    # Function Definition from Above:\n",
    "    #   flatten(x_tensor)\n",
    "    x = flatten(x)\n",
    "\n",
    "    # TODO: Apply 1, 2, or 3 Fully Connected Layers\n",
    "    #    Play around with different number of outputs\n",
    "    # Function Definition from Above:\n",
    "    #   fully_conn(x_tensor, num_outputs)\n",
    "    x = fully_conn(x, 128)\n",
    "    x = fully_conn(x, 256)    \n",
    "    # dropout layer\n",
    "    x = tf.nn.dropout(x, keep_prob)\n",
    "    # TODO: Apply an Output Layer\n",
    "    #    Set this to the number of classes\n",
    "    # Function Definition from Above:\n",
    "    x = output(x, 10)\n",
    "    \n",
    "    # TODO: return output\n",
    "    return x\n",
    "\n",
    "\n",
    "\"\"\"\n",
    "DON'T MODIFY ANYTHING IN THIS CELL THAT IS BELOW THIS LINE\n",
    "\"\"\"\n",
    "\n",
    "##############################\n",
    "## Build the Neural Network ##\n",
    "##############################\n",
    "\n",
    "# Remove previous weights, bias, inputs, etc..\n",
    "tf.reset_default_graph()\n",
    "\n",
    "# Inputs\n",
    "x = neural_net_image_input((32, 32, 3))\n",
    "y = neural_net_label_input(10)\n",
    "keep_prob = neural_net_keep_prob_input()\n",
    "\n",
    "# Model\n",
    "logits = conv_net(x, keep_prob)\n",
    "\n",
    "# Name logits Tensor, so that is can be loaded from disk after training\n",
    "logits = tf.identity(logits, name='logits')\n",
    "\n",
    "# Loss and Optimizer\n",
    "cost = tf.reduce_mean(tf.nn.softmax_cross_entropy_with_logits(logits=logits, labels=y))\n",
    "optimizer = tf.train.AdamOptimizer().minimize(cost)\n",
    "\n",
    "# Accuracy\n",
    "correct_pred = tf.equal(tf.argmax(logits, 1), tf.argmax(y, 1))\n",
    "accuracy = tf.reduce_mean(tf.cast(correct_pred, tf.float32), name='accuracy')\n",
    "\n",
    "tests.test_conv_net(conv_net)"
   ]
  },
  {
   "cell_type": "markdown",
   "metadata": {},
   "source": [
    "## Train the Neural Network\n",
    "### Single Optimization\n",
    "Implement the function `train_neural_network` to do a single optimization.  The optimization should use `optimizer` to optimize in `session` with a `feed_dict` of the following:\n",
    "* `x` for image input\n",
    "* `y` for labels\n",
    "* `keep_prob` for keep probability for dropout\n",
    "\n",
    "This function will be called for each batch, so `tf.global_variables_initializer()` has already been called.\n",
    "\n",
    "Note: Nothing needs to be returned. This function is only optimizing the neural network."
   ]
  },
  {
   "cell_type": "code",
   "execution_count": 47,
   "metadata": {},
   "outputs": [
    {
     "name": "stdout",
     "output_type": "stream",
     "text": [
      "Tests Passed\n"
     ]
    }
   ],
   "source": [
    "def train_neural_network(session, optimizer, keep_probability, feature_batch, label_batch):\n",
    "    \"\"\"\n",
    "    Optimize the session on a batch of images and labels\n",
    "    : session: Current TensorFlow session\n",
    "    : optimizer: TensorFlow optimizer function\n",
    "    : keep_probability: keep probability\n",
    "    : feature_batch: Batch of Numpy image data\n",
    "    : label_batch: Batch of Numpy label data\n",
    "    \"\"\"\n",
    "    # TODO: Implement Function\n",
    "    session.run(optimizer, feed_dict={\n",
    "         x: feature_batch, y: label_batch, keep_prob: keep_probability\n",
    "        })\n",
    "    #pass\n",
    "\n",
    "\n",
    "\"\"\"\n",
    "DON'T MODIFY ANYTHING IN THIS CELL THAT IS BELOW THIS LINE\n",
    "\"\"\"\n",
    "tests.test_train_nn(train_neural_network)"
   ]
  },
  {
   "cell_type": "markdown",
   "metadata": {},
   "source": [
    "### Show Stats\n",
    "Implement the function `print_stats` to print loss and validation accuracy.  Use the global variables `valid_features` and `valid_labels` to calculate validation accuracy.  Use a keep probability of `1.0` to calculate the loss and validation accuracy."
   ]
  },
  {
   "cell_type": "code",
   "execution_count": 48,
   "metadata": {},
   "outputs": [],
   "source": [
    "def print_stats(session, feature_batch, label_batch, cost, accuracy):\n",
    "    \"\"\"\n",
    "    Print information about loss and validation accuracy\n",
    "    : session: Current TensorFlow session\n",
    "    : feature_batch: Batch of Numpy image data\n",
    "    : label_batch: Batch of Numpy label data\n",
    "    : cost: TensorFlow cost function\n",
    "    : accuracy: TensorFlow accuracy function\n",
    "    \"\"\"\n",
    "    # TODO: Implement Function\n",
    "    #print(\"Session: {0}\".format(session))\n",
    "    #print(\"Feature_batch: {0}\".format(feature_batch))\n",
    "    #print(\"Label_batch: {0}\".format(label_batch))\n",
    "    # Calculate cost\n",
    "    loss = session.run(cost, feed_dict={x: feature_batch, y: label_batch, keep_prob: 1.})\n",
    "    #print(\"Loss: {:>10.4f}\".format(loss))\n",
    "    # Get validation accuracy\n",
    "    valid_acc = session.run(accuracy, feed_dict={x: valid_features, y: valid_labels, keep_prob: 1.})\n",
    "    print(\"Loss: {:>10.4f} Validation Accuracy: {:.6f}\".format(loss, valid_acc))\n",
    "    #pass"
   ]
  },
  {
   "cell_type": "markdown",
   "metadata": {},
   "source": [
    "### Hyperparameters\n",
    "Tune the following parameters:\n",
    "* Set `epochs` to the number of iterations until the network stops learning or start overfitting\n",
    "* Set `batch_size` to the highest number that your machine has memory for.  Most people set them to common sizes of memory:\n",
    " * 64\n",
    " * 128\n",
    " * 256\n",
    " * ...\n",
    "* Set `keep_probability` to the probability of keeping a node using dropout"
   ]
  },
  {
   "cell_type": "code",
   "execution_count": 51,
   "metadata": {
    "collapsed": true
   },
   "outputs": [],
   "source": [
    "# TODO: Tune Parameters\n",
    "epochs = 50\n",
    "batch_size = 128\n",
    "keep_probability = 0.5"
   ]
  },
  {
   "cell_type": "markdown",
   "metadata": {},
   "source": [
    "### Train on a Single CIFAR-10 Batch\n",
    "Instead of training the neural network on all the CIFAR-10 batches of data, let's use a single batch. This should save time while you iterate on the model to get a better accuracy.  Once the final validation accuracy is 50% or greater, run the model on all the data in the next section."
   ]
  },
  {
   "cell_type": "code",
   "execution_count": 52,
   "metadata": {},
   "outputs": [
    {
     "name": "stdout",
     "output_type": "stream",
     "text": [
      "Checking the Training on a Single Batch...\n",
      "Epoch  1, CIFAR-10 Batch 1:  Loss:     2.2395 Validation Accuracy: 0.173200\n",
      "Epoch  2, CIFAR-10 Batch 1:  Loss:     2.1736 Validation Accuracy: 0.236000\n",
      "Epoch  3, CIFAR-10 Batch 1:  Loss:     2.1712 Validation Accuracy: 0.262400\n",
      "Epoch  4, CIFAR-10 Batch 1:  Loss:     2.2188 Validation Accuracy: 0.271000\n",
      "Epoch  5, CIFAR-10 Batch 1:  Loss:     2.1239 Validation Accuracy: 0.328600\n",
      "Epoch  6, CIFAR-10 Batch 1:  Loss:     2.0500 Validation Accuracy: 0.363000\n",
      "Epoch  7, CIFAR-10 Batch 1:  Loss:     1.8887 Validation Accuracy: 0.379200\n",
      "Epoch  8, CIFAR-10 Batch 1:  Loss:     1.8277 Validation Accuracy: 0.388800\n",
      "Epoch  9, CIFAR-10 Batch 1:  Loss:     1.7807 Validation Accuracy: 0.395200\n",
      "Epoch 10, CIFAR-10 Batch 1:  Loss:     1.6958 Validation Accuracy: 0.409800\n",
      "Epoch 11, CIFAR-10 Batch 1:  Loss:     1.6527 Validation Accuracy: 0.417400\n",
      "Epoch 12, CIFAR-10 Batch 1:  Loss:     1.5465 Validation Accuracy: 0.439400\n",
      "Epoch 13, CIFAR-10 Batch 1:  Loss:     1.5407 Validation Accuracy: 0.437000\n",
      "Epoch 14, CIFAR-10 Batch 1:  Loss:     1.4930 Validation Accuracy: 0.441600\n",
      "Epoch 15, CIFAR-10 Batch 1:  Loss:     1.4318 Validation Accuracy: 0.447000\n",
      "Epoch 16, CIFAR-10 Batch 1:  Loss:     1.3758 Validation Accuracy: 0.442200\n",
      "Epoch 17, CIFAR-10 Batch 1:  Loss:     1.3060 Validation Accuracy: 0.453800\n",
      "Epoch 18, CIFAR-10 Batch 1:  Loss:     1.2239 Validation Accuracy: 0.466000\n",
      "Epoch 19, CIFAR-10 Batch 1:  Loss:     1.1743 Validation Accuracy: 0.466600\n",
      "Epoch 20, CIFAR-10 Batch 1:  Loss:     1.1821 Validation Accuracy: 0.470000\n",
      "Epoch 21, CIFAR-10 Batch 1:  Loss:     1.0799 Validation Accuracy: 0.475000\n",
      "Epoch 22, CIFAR-10 Batch 1:  Loss:     1.0721 Validation Accuracy: 0.482400\n",
      "Epoch 23, CIFAR-10 Batch 1:  Loss:     1.0547 Validation Accuracy: 0.475200\n",
      "Epoch 24, CIFAR-10 Batch 1:  Loss:     1.0229 Validation Accuracy: 0.476000\n",
      "Epoch 25, CIFAR-10 Batch 1:  Loss:     0.9095 Validation Accuracy: 0.488000\n",
      "Epoch 26, CIFAR-10 Batch 1:  Loss:     0.9392 Validation Accuracy: 0.480600\n",
      "Epoch 27, CIFAR-10 Batch 1:  Loss:     0.8353 Validation Accuracy: 0.506000\n",
      "Epoch 28, CIFAR-10 Batch 1:  Loss:     0.8896 Validation Accuracy: 0.491800\n",
      "Epoch 29, CIFAR-10 Batch 1:  Loss:     0.8081 Validation Accuracy: 0.499000\n",
      "Epoch 30, CIFAR-10 Batch 1:  Loss:     0.7486 Validation Accuracy: 0.498600\n",
      "Epoch 31, CIFAR-10 Batch 1:  Loss:     0.7647 Validation Accuracy: 0.492000\n",
      "Epoch 32, CIFAR-10 Batch 1:  Loss:     0.6781 Validation Accuracy: 0.503000\n",
      "Epoch 33, CIFAR-10 Batch 1:  Loss:     0.6243 Validation Accuracy: 0.501200\n",
      "Epoch 34, CIFAR-10 Batch 1:  Loss:     0.6446 Validation Accuracy: 0.502600\n",
      "Epoch 35, CIFAR-10 Batch 1:  Loss:     0.5943 Validation Accuracy: 0.502200\n",
      "Epoch 36, CIFAR-10 Batch 1:  Loss:     0.5672 Validation Accuracy: 0.498200\n",
      "Epoch 37, CIFAR-10 Batch 1:  Loss:     0.5830 Validation Accuracy: 0.475000\n",
      "Epoch 38, CIFAR-10 Batch 1:  Loss:     0.6145 Validation Accuracy: 0.492400\n",
      "Epoch 39, CIFAR-10 Batch 1:  Loss:     0.5193 Validation Accuracy: 0.488000\n",
      "Epoch 40, CIFAR-10 Batch 1:  Loss:     0.5163 Validation Accuracy: 0.499600\n",
      "Epoch 41, CIFAR-10 Batch 1:  Loss:     0.4609 Validation Accuracy: 0.504600\n",
      "Epoch 42, CIFAR-10 Batch 1:  Loss:     0.4257 Validation Accuracy: 0.498200\n",
      "Epoch 43, CIFAR-10 Batch 1:  Loss:     0.3912 Validation Accuracy: 0.506200\n",
      "Epoch 44, CIFAR-10 Batch 1:  Loss:     0.3822 Validation Accuracy: 0.493200\n",
      "Epoch 45, CIFAR-10 Batch 1:  Loss:     0.4097 Validation Accuracy: 0.484400\n",
      "Epoch 46, CIFAR-10 Batch 1:  Loss:     0.3819 Validation Accuracy: 0.484400\n",
      "Epoch 47, CIFAR-10 Batch 1:  Loss:     0.4066 Validation Accuracy: 0.482000\n",
      "Epoch 48, CIFAR-10 Batch 1:  Loss:     0.3520 Validation Accuracy: 0.471400\n",
      "Epoch 49, CIFAR-10 Batch 1:  Loss:     0.2492 Validation Accuracy: 0.490200\n",
      "Epoch 50, CIFAR-10 Batch 1:  Loss:     0.2326 Validation Accuracy: 0.499000\n"
     ]
    }
   ],
   "source": [
    "\"\"\"\n",
    "DON'T MODIFY ANYTHING IN THIS CELL\n",
    "\"\"\"\n",
    "print('Checking the Training on a Single Batch...')\n",
    "with tf.Session() as sess:\n",
    "    # Initializing the variables\n",
    "    sess.run(tf.global_variables_initializer())\n",
    "    \n",
    "    # Training cycle\n",
    "    for epoch in range(epochs):\n",
    "        batch_i = 1\n",
    "        for batch_features, batch_labels in helper.load_preprocess_training_batch(batch_i, batch_size):\n",
    "            train_neural_network(sess, optimizer, keep_probability, batch_features, batch_labels)\n",
    "        print('Epoch {:>2}, CIFAR-10 Batch {}:  '.format(epoch + 1, batch_i), end='')\n",
    "        print_stats(sess, batch_features, batch_labels, cost, accuracy)"
   ]
  },
  {
   "cell_type": "markdown",
   "metadata": {},
   "source": [
    "### Fully Train the Model\n",
    "Now that you got a good accuracy with a single CIFAR-10 batch, try it with all five batches."
   ]
  },
  {
   "cell_type": "code",
   "execution_count": 53,
   "metadata": {},
   "outputs": [
    {
     "name": "stdout",
     "output_type": "stream",
     "text": [
      "Training...\n",
      "Epoch  1, CIFAR-10 Batch 1:  Loss:     2.2365 Validation Accuracy: 0.165400\n",
      "Epoch  1, CIFAR-10 Batch 2:  Loss:     2.1483 Validation Accuracy: 0.246600\n",
      "Epoch  1, CIFAR-10 Batch 3:  Loss:     1.9133 Validation Accuracy: 0.259400\n",
      "Epoch  1, CIFAR-10 Batch 4:  Loss:     1.9096 Validation Accuracy: 0.303800\n",
      "Epoch  1, CIFAR-10 Batch 5:  Loss:     1.8585 Validation Accuracy: 0.345000\n",
      "Epoch  2, CIFAR-10 Batch 1:  Loss:     2.1356 Validation Accuracy: 0.365600\n",
      "Epoch  2, CIFAR-10 Batch 2:  Loss:     1.7479 Validation Accuracy: 0.386400\n",
      "Epoch  2, CIFAR-10 Batch 3:  Loss:     1.5096 Validation Accuracy: 0.400000\n",
      "Epoch  2, CIFAR-10 Batch 4:  Loss:     1.5291 Validation Accuracy: 0.413000\n",
      "Epoch  2, CIFAR-10 Batch 5:  Loss:     1.6448 Validation Accuracy: 0.425600\n",
      "Epoch  3, CIFAR-10 Batch 1:  Loss:     1.8881 Validation Accuracy: 0.423800\n",
      "Epoch  3, CIFAR-10 Batch 2:  Loss:     1.5532 Validation Accuracy: 0.449000\n",
      "Epoch  3, CIFAR-10 Batch 3:  Loss:     1.2494 Validation Accuracy: 0.432800\n",
      "Epoch  3, CIFAR-10 Batch 4:  Loss:     1.4362 Validation Accuracy: 0.446800\n",
      "Epoch  3, CIFAR-10 Batch 5:  Loss:     1.5941 Validation Accuracy: 0.459200\n",
      "Epoch  4, CIFAR-10 Batch 1:  Loss:     1.8233 Validation Accuracy: 0.461200\n",
      "Epoch  4, CIFAR-10 Batch 2:  Loss:     1.3519 Validation Accuracy: 0.462400\n",
      "Epoch  4, CIFAR-10 Batch 3:  Loss:     1.1803 Validation Accuracy: 0.467400\n",
      "Epoch  4, CIFAR-10 Batch 4:  Loss:     1.2848 Validation Accuracy: 0.472400\n",
      "Epoch  4, CIFAR-10 Batch 5:  Loss:     1.4055 Validation Accuracy: 0.480600\n",
      "Epoch  5, CIFAR-10 Batch 1:  Loss:     1.7918 Validation Accuracy: 0.481200\n",
      "Epoch  5, CIFAR-10 Batch 2:  Loss:     1.2965 Validation Accuracy: 0.474000\n",
      "Epoch  5, CIFAR-10 Batch 3:  Loss:     1.0763 Validation Accuracy: 0.487400\n",
      "Epoch  5, CIFAR-10 Batch 4:  Loss:     1.2849 Validation Accuracy: 0.484000\n",
      "Epoch  5, CIFAR-10 Batch 5:  Loss:     1.3682 Validation Accuracy: 0.492800\n",
      "Epoch  6, CIFAR-10 Batch 1:  Loss:     1.6919 Validation Accuracy: 0.485000\n",
      "Epoch  6, CIFAR-10 Batch 2:  Loss:     1.1957 Validation Accuracy: 0.482600\n",
      "Epoch  6, CIFAR-10 Batch 3:  Loss:     1.0264 Validation Accuracy: 0.488800\n",
      "Epoch  6, CIFAR-10 Batch 4:  Loss:     1.2506 Validation Accuracy: 0.502400\n",
      "Epoch  6, CIFAR-10 Batch 5:  Loss:     1.3397 Validation Accuracy: 0.510800\n",
      "Epoch  7, CIFAR-10 Batch 1:  Loss:     1.5207 Validation Accuracy: 0.505200\n",
      "Epoch  7, CIFAR-10 Batch 2:  Loss:     1.1010 Validation Accuracy: 0.499200\n",
      "Epoch  7, CIFAR-10 Batch 3:  Loss:     0.9512 Validation Accuracy: 0.505800\n",
      "Epoch  7, CIFAR-10 Batch 4:  Loss:     1.2082 Validation Accuracy: 0.511600\n",
      "Epoch  7, CIFAR-10 Batch 5:  Loss:     1.2466 Validation Accuracy: 0.515800\n",
      "Epoch  8, CIFAR-10 Batch 1:  Loss:     1.3575 Validation Accuracy: 0.515600\n",
      "Epoch  8, CIFAR-10 Batch 2:  Loss:     1.0168 Validation Accuracy: 0.514400\n",
      "Epoch  8, CIFAR-10 Batch 3:  Loss:     0.9060 Validation Accuracy: 0.515600\n",
      "Epoch  8, CIFAR-10 Batch 4:  Loss:     1.1099 Validation Accuracy: 0.524400\n",
      "Epoch  8, CIFAR-10 Batch 5:  Loss:     1.2339 Validation Accuracy: 0.521600\n",
      "Epoch  9, CIFAR-10 Batch 1:  Loss:     1.3505 Validation Accuracy: 0.518400\n",
      "Epoch  9, CIFAR-10 Batch 2:  Loss:     1.0310 Validation Accuracy: 0.502800\n",
      "Epoch  9, CIFAR-10 Batch 3:  Loss:     0.8617 Validation Accuracy: 0.516000\n",
      "Epoch  9, CIFAR-10 Batch 4:  Loss:     1.0481 Validation Accuracy: 0.525600\n",
      "Epoch  9, CIFAR-10 Batch 5:  Loss:     1.2523 Validation Accuracy: 0.527000\n",
      "Epoch 10, CIFAR-10 Batch 1:  Loss:     1.2505 Validation Accuracy: 0.533800\n",
      "Epoch 10, CIFAR-10 Batch 2:  Loss:     0.9990 Validation Accuracy: 0.521800\n",
      "Epoch 10, CIFAR-10 Batch 3:  Loss:     0.8084 Validation Accuracy: 0.527800\n",
      "Epoch 10, CIFAR-10 Batch 4:  Loss:     1.0141 Validation Accuracy: 0.536400\n",
      "Epoch 10, CIFAR-10 Batch 5:  Loss:     1.1815 Validation Accuracy: 0.525000\n",
      "Epoch 11, CIFAR-10 Batch 1:  Loss:     1.2122 Validation Accuracy: 0.533600\n",
      "Epoch 11, CIFAR-10 Batch 2:  Loss:     0.9569 Validation Accuracy: 0.532400\n",
      "Epoch 11, CIFAR-10 Batch 3:  Loss:     0.8389 Validation Accuracy: 0.530800\n",
      "Epoch 11, CIFAR-10 Batch 4:  Loss:     0.9225 Validation Accuracy: 0.535000\n",
      "Epoch 11, CIFAR-10 Batch 5:  Loss:     1.1471 Validation Accuracy: 0.539600\n",
      "Epoch 12, CIFAR-10 Batch 1:  Loss:     1.1631 Validation Accuracy: 0.540000\n",
      "Epoch 12, CIFAR-10 Batch 2:  Loss:     0.9440 Validation Accuracy: 0.545400\n",
      "Epoch 12, CIFAR-10 Batch 3:  Loss:     0.7497 Validation Accuracy: 0.544800\n",
      "Epoch 12, CIFAR-10 Batch 4:  Loss:     0.9418 Validation Accuracy: 0.553200\n",
      "Epoch 12, CIFAR-10 Batch 5:  Loss:     1.1211 Validation Accuracy: 0.519600\n",
      "Epoch 13, CIFAR-10 Batch 1:  Loss:     1.1556 Validation Accuracy: 0.545600\n",
      "Epoch 13, CIFAR-10 Batch 2:  Loss:     0.9110 Validation Accuracy: 0.536200\n",
      "Epoch 13, CIFAR-10 Batch 3:  Loss:     0.7864 Validation Accuracy: 0.543600\n",
      "Epoch 13, CIFAR-10 Batch 4:  Loss:     0.8537 Validation Accuracy: 0.550000\n",
      "Epoch 13, CIFAR-10 Batch 5:  Loss:     1.0846 Validation Accuracy: 0.538200\n",
      "Epoch 14, CIFAR-10 Batch 1:  Loss:     1.1393 Validation Accuracy: 0.543600\n",
      "Epoch 14, CIFAR-10 Batch 2:  Loss:     0.9072 Validation Accuracy: 0.540200\n",
      "Epoch 14, CIFAR-10 Batch 3:  Loss:     0.7310 Validation Accuracy: 0.546800\n",
      "Epoch 14, CIFAR-10 Batch 4:  Loss:     0.8188 Validation Accuracy: 0.558000\n",
      "Epoch 14, CIFAR-10 Batch 5:  Loss:     1.0760 Validation Accuracy: 0.527600\n",
      "Epoch 15, CIFAR-10 Batch 1:  Loss:     1.0321 Validation Accuracy: 0.561200\n",
      "Epoch 15, CIFAR-10 Batch 2:  Loss:     0.9103 Validation Accuracy: 0.554800\n",
      "Epoch 15, CIFAR-10 Batch 3:  Loss:     0.6809 Validation Accuracy: 0.555000\n",
      "Epoch 15, CIFAR-10 Batch 4:  Loss:     0.8366 Validation Accuracy: 0.568000\n",
      "Epoch 15, CIFAR-10 Batch 5:  Loss:     1.0226 Validation Accuracy: 0.541600\n",
      "Epoch 16, CIFAR-10 Batch 1:  Loss:     0.9291 Validation Accuracy: 0.561800\n",
      "Epoch 16, CIFAR-10 Batch 2:  Loss:     0.8727 Validation Accuracy: 0.567800\n",
      "Epoch 16, CIFAR-10 Batch 3:  Loss:     0.6894 Validation Accuracy: 0.561400\n",
      "Epoch 16, CIFAR-10 Batch 4:  Loss:     0.7911 Validation Accuracy: 0.559800\n",
      "Epoch 16, CIFAR-10 Batch 5:  Loss:     1.0024 Validation Accuracy: 0.533400\n",
      "Epoch 17, CIFAR-10 Batch 1:  Loss:     0.9062 Validation Accuracy: 0.560400\n",
      "Epoch 17, CIFAR-10 Batch 2:  Loss:     0.8255 Validation Accuracy: 0.553000\n",
      "Epoch 17, CIFAR-10 Batch 3:  Loss:     0.6974 Validation Accuracy: 0.550800\n",
      "Epoch 17, CIFAR-10 Batch 4:  Loss:     0.7984 Validation Accuracy: 0.560600\n",
      "Epoch 17, CIFAR-10 Batch 5:  Loss:     0.9151 Validation Accuracy: 0.550800\n",
      "Epoch 18, CIFAR-10 Batch 1:  Loss:     0.8971 Validation Accuracy: 0.568200\n",
      "Epoch 18, CIFAR-10 Batch 2:  Loss:     0.7973 Validation Accuracy: 0.560600\n",
      "Epoch 18, CIFAR-10 Batch 3:  Loss:     0.6763 Validation Accuracy: 0.543600\n",
      "Epoch 18, CIFAR-10 Batch 4:  Loss:     0.7571 Validation Accuracy: 0.561600\n",
      "Epoch 18, CIFAR-10 Batch 5:  Loss:     0.8794 Validation Accuracy: 0.552200\n",
      "Epoch 19, CIFAR-10 Batch 1:  Loss:     0.8571 Validation Accuracy: 0.572000\n",
      "Epoch 19, CIFAR-10 Batch 2:  Loss:     0.8218 Validation Accuracy: 0.564000\n",
      "Epoch 19, CIFAR-10 Batch 3:  Loss:     0.6439 Validation Accuracy: 0.555600\n",
      "Epoch 19, CIFAR-10 Batch 4:  Loss:     0.6635 Validation Accuracy: 0.569200\n",
      "Epoch 19, CIFAR-10 Batch 5:  Loss:     0.8599 Validation Accuracy: 0.554600\n",
      "Epoch 20, CIFAR-10 Batch 1:  Loss:     0.7838 Validation Accuracy: 0.572400\n",
      "Epoch 20, CIFAR-10 Batch 2:  Loss:     0.7844 Validation Accuracy: 0.565200\n",
      "Epoch 20, CIFAR-10 Batch 3:  Loss:     0.5852 Validation Accuracy: 0.563200\n",
      "Epoch 20, CIFAR-10 Batch 4:  Loss:     0.6426 Validation Accuracy: 0.564800\n",
      "Epoch 20, CIFAR-10 Batch 5:  Loss:     0.8623 Validation Accuracy: 0.550600\n",
      "Epoch 21, CIFAR-10 Batch 1:  Loss:     0.8021 Validation Accuracy: 0.578600\n",
      "Epoch 21, CIFAR-10 Batch 2:  Loss:     0.7603 Validation Accuracy: 0.565000\n",
      "Epoch 21, CIFAR-10 Batch 3:  Loss:     0.5359 Validation Accuracy: 0.563200\n",
      "Epoch 21, CIFAR-10 Batch 4:  Loss:     0.6912 Validation Accuracy: 0.566400\n",
      "Epoch 21, CIFAR-10 Batch 5:  Loss:     0.8115 Validation Accuracy: 0.559600\n",
      "Epoch 22, CIFAR-10 Batch 1:  Loss:     0.7570 Validation Accuracy: 0.576400\n",
      "Epoch 22, CIFAR-10 Batch 2:  Loss:     0.7022 Validation Accuracy: 0.573400\n",
      "Epoch 22, CIFAR-10 Batch 3:  Loss:     0.5450 Validation Accuracy: 0.567200\n"
     ]
    },
    {
     "name": "stdout",
     "output_type": "stream",
     "text": [
      "Epoch 22, CIFAR-10 Batch 4:  Loss:     0.6411 Validation Accuracy: 0.575400\n",
      "Epoch 22, CIFAR-10 Batch 5:  Loss:     0.7783 Validation Accuracy: 0.568600\n",
      "Epoch 23, CIFAR-10 Batch 1:  Loss:     0.6899 Validation Accuracy: 0.577400\n",
      "Epoch 23, CIFAR-10 Batch 2:  Loss:     0.6652 Validation Accuracy: 0.576400\n",
      "Epoch 23, CIFAR-10 Batch 3:  Loss:     0.4946 Validation Accuracy: 0.571400\n",
      "Epoch 23, CIFAR-10 Batch 4:  Loss:     0.6458 Validation Accuracy: 0.574000\n",
      "Epoch 23, CIFAR-10 Batch 5:  Loss:     0.7504 Validation Accuracy: 0.567800\n",
      "Epoch 24, CIFAR-10 Batch 1:  Loss:     0.6869 Validation Accuracy: 0.574600\n",
      "Epoch 24, CIFAR-10 Batch 2:  Loss:     0.6576 Validation Accuracy: 0.569000\n",
      "Epoch 24, CIFAR-10 Batch 3:  Loss:     0.4671 Validation Accuracy: 0.570600\n",
      "Epoch 24, CIFAR-10 Batch 4:  Loss:     0.6554 Validation Accuracy: 0.572600\n",
      "Epoch 24, CIFAR-10 Batch 5:  Loss:     0.6997 Validation Accuracy: 0.571400\n",
      "Epoch 25, CIFAR-10 Batch 1:  Loss:     0.6873 Validation Accuracy: 0.572400\n",
      "Epoch 25, CIFAR-10 Batch 2:  Loss:     0.6464 Validation Accuracy: 0.576800\n",
      "Epoch 25, CIFAR-10 Batch 3:  Loss:     0.4986 Validation Accuracy: 0.562600\n",
      "Epoch 25, CIFAR-10 Batch 4:  Loss:     0.5938 Validation Accuracy: 0.578400\n",
      "Epoch 25, CIFAR-10 Batch 5:  Loss:     0.7093 Validation Accuracy: 0.570200\n",
      "Epoch 26, CIFAR-10 Batch 1:  Loss:     0.6234 Validation Accuracy: 0.570400\n",
      "Epoch 26, CIFAR-10 Batch 2:  Loss:     0.6489 Validation Accuracy: 0.576000\n",
      "Epoch 26, CIFAR-10 Batch 3:  Loss:     0.4524 Validation Accuracy: 0.573000\n",
      "Epoch 26, CIFAR-10 Batch 4:  Loss:     0.6277 Validation Accuracy: 0.574400\n",
      "Epoch 26, CIFAR-10 Batch 5:  Loss:     0.7110 Validation Accuracy: 0.565400\n",
      "Epoch 27, CIFAR-10 Batch 1:  Loss:     0.6441 Validation Accuracy: 0.578600\n",
      "Epoch 27, CIFAR-10 Batch 2:  Loss:     0.6530 Validation Accuracy: 0.572800\n",
      "Epoch 27, CIFAR-10 Batch 3:  Loss:     0.3986 Validation Accuracy: 0.572800\n",
      "Epoch 27, CIFAR-10 Batch 4:  Loss:     0.5958 Validation Accuracy: 0.576800\n",
      "Epoch 27, CIFAR-10 Batch 5:  Loss:     0.7100 Validation Accuracy: 0.574000\n",
      "Epoch 28, CIFAR-10 Batch 1:  Loss:     0.6191 Validation Accuracy: 0.579000\n",
      "Epoch 28, CIFAR-10 Batch 2:  Loss:     0.6307 Validation Accuracy: 0.575200\n",
      "Epoch 28, CIFAR-10 Batch 3:  Loss:     0.4172 Validation Accuracy: 0.575200\n",
      "Epoch 28, CIFAR-10 Batch 4:  Loss:     0.5820 Validation Accuracy: 0.580000\n",
      "Epoch 28, CIFAR-10 Batch 5:  Loss:     0.7141 Validation Accuracy: 0.574600\n",
      "Epoch 29, CIFAR-10 Batch 1:  Loss:     0.6118 Validation Accuracy: 0.579600\n",
      "Epoch 29, CIFAR-10 Batch 2:  Loss:     0.6196 Validation Accuracy: 0.569400\n",
      "Epoch 29, CIFAR-10 Batch 3:  Loss:     0.4922 Validation Accuracy: 0.573200\n",
      "Epoch 29, CIFAR-10 Batch 4:  Loss:     0.5650 Validation Accuracy: 0.571000\n",
      "Epoch 29, CIFAR-10 Batch 5:  Loss:     0.6040 Validation Accuracy: 0.576600\n",
      "Epoch 30, CIFAR-10 Batch 1:  Loss:     0.5755 Validation Accuracy: 0.578200\n",
      "Epoch 30, CIFAR-10 Batch 2:  Loss:     0.6244 Validation Accuracy: 0.579400\n",
      "Epoch 30, CIFAR-10 Batch 3:  Loss:     0.4520 Validation Accuracy: 0.570000\n",
      "Epoch 30, CIFAR-10 Batch 4:  Loss:     0.5459 Validation Accuracy: 0.584400\n",
      "Epoch 30, CIFAR-10 Batch 5:  Loss:     0.6231 Validation Accuracy: 0.577600\n",
      "Epoch 31, CIFAR-10 Batch 1:  Loss:     0.5971 Validation Accuracy: 0.581800\n",
      "Epoch 31, CIFAR-10 Batch 2:  Loss:     0.5690 Validation Accuracy: 0.577600\n",
      "Epoch 31, CIFAR-10 Batch 3:  Loss:     0.4308 Validation Accuracy: 0.571600\n",
      "Epoch 31, CIFAR-10 Batch 4:  Loss:     0.5232 Validation Accuracy: 0.576000\n",
      "Epoch 31, CIFAR-10 Batch 5:  Loss:     0.6394 Validation Accuracy: 0.575400\n",
      "Epoch 32, CIFAR-10 Batch 1:  Loss:     0.5607 Validation Accuracy: 0.580200\n",
      "Epoch 32, CIFAR-10 Batch 2:  Loss:     0.5393 Validation Accuracy: 0.577200\n",
      "Epoch 32, CIFAR-10 Batch 3:  Loss:     0.3942 Validation Accuracy: 0.559200\n",
      "Epoch 32, CIFAR-10 Batch 4:  Loss:     0.4999 Validation Accuracy: 0.582400\n",
      "Epoch 32, CIFAR-10 Batch 5:  Loss:     0.5788 Validation Accuracy: 0.571800\n",
      "Epoch 33, CIFAR-10 Batch 1:  Loss:     0.5948 Validation Accuracy: 0.586200\n",
      "Epoch 33, CIFAR-10 Batch 2:  Loss:     0.5453 Validation Accuracy: 0.571400\n",
      "Epoch 33, CIFAR-10 Batch 3:  Loss:     0.4049 Validation Accuracy: 0.560800\n",
      "Epoch 33, CIFAR-10 Batch 4:  Loss:     0.5187 Validation Accuracy: 0.579400\n",
      "Epoch 33, CIFAR-10 Batch 5:  Loss:     0.5769 Validation Accuracy: 0.575000\n",
      "Epoch 34, CIFAR-10 Batch 1:  Loss:     0.5523 Validation Accuracy: 0.583000\n",
      "Epoch 34, CIFAR-10 Batch 2:  Loss:     0.5362 Validation Accuracy: 0.570400\n",
      "Epoch 34, CIFAR-10 Batch 3:  Loss:     0.3862 Validation Accuracy: 0.573600\n",
      "Epoch 34, CIFAR-10 Batch 4:  Loss:     0.4301 Validation Accuracy: 0.575200\n",
      "Epoch 34, CIFAR-10 Batch 5:  Loss:     0.5665 Validation Accuracy: 0.581600\n",
      "Epoch 35, CIFAR-10 Batch 1:  Loss:     0.5594 Validation Accuracy: 0.580800\n",
      "Epoch 35, CIFAR-10 Batch 2:  Loss:     0.5289 Validation Accuracy: 0.568800\n",
      "Epoch 35, CIFAR-10 Batch 3:  Loss:     0.4115 Validation Accuracy: 0.561600\n",
      "Epoch 35, CIFAR-10 Batch 4:  Loss:     0.5332 Validation Accuracy: 0.569400\n",
      "Epoch 35, CIFAR-10 Batch 5:  Loss:     0.5710 Validation Accuracy: 0.571800\n",
      "Epoch 36, CIFAR-10 Batch 1:  Loss:     0.5630 Validation Accuracy: 0.582400\n",
      "Epoch 36, CIFAR-10 Batch 2:  Loss:     0.5405 Validation Accuracy: 0.574000\n",
      "Epoch 36, CIFAR-10 Batch 3:  Loss:     0.4265 Validation Accuracy: 0.569600\n",
      "Epoch 36, CIFAR-10 Batch 4:  Loss:     0.4748 Validation Accuracy: 0.583800\n",
      "Epoch 36, CIFAR-10 Batch 5:  Loss:     0.5018 Validation Accuracy: 0.575400\n",
      "Epoch 37, CIFAR-10 Batch 1:  Loss:     0.5509 Validation Accuracy: 0.586800\n",
      "Epoch 37, CIFAR-10 Batch 2:  Loss:     0.4772 Validation Accuracy: 0.569800\n",
      "Epoch 37, CIFAR-10 Batch 3:  Loss:     0.3910 Validation Accuracy: 0.571600\n",
      "Epoch 37, CIFAR-10 Batch 4:  Loss:     0.4980 Validation Accuracy: 0.571400\n",
      "Epoch 37, CIFAR-10 Batch 5:  Loss:     0.5046 Validation Accuracy: 0.575600\n",
      "Epoch 38, CIFAR-10 Batch 1:  Loss:     0.4944 Validation Accuracy: 0.575400\n",
      "Epoch 38, CIFAR-10 Batch 2:  Loss:     0.4926 Validation Accuracy: 0.561200\n",
      "Epoch 38, CIFAR-10 Batch 3:  Loss:     0.4490 Validation Accuracy: 0.570400\n",
      "Epoch 38, CIFAR-10 Batch 4:  Loss:     0.5166 Validation Accuracy: 0.571200\n",
      "Epoch 38, CIFAR-10 Batch 5:  Loss:     0.5097 Validation Accuracy: 0.581600\n",
      "Epoch 39, CIFAR-10 Batch 1:  Loss:     0.5072 Validation Accuracy: 0.590400\n",
      "Epoch 39, CIFAR-10 Batch 2:  Loss:     0.4763 Validation Accuracy: 0.564600\n",
      "Epoch 39, CIFAR-10 Batch 3:  Loss:     0.3859 Validation Accuracy: 0.575400\n",
      "Epoch 39, CIFAR-10 Batch 4:  Loss:     0.5255 Validation Accuracy: 0.576400\n",
      "Epoch 39, CIFAR-10 Batch 5:  Loss:     0.5217 Validation Accuracy: 0.580000\n",
      "Epoch 40, CIFAR-10 Batch 1:  Loss:     0.5651 Validation Accuracy: 0.572600\n",
      "Epoch 40, CIFAR-10 Batch 2:  Loss:     0.4890 Validation Accuracy: 0.556200\n",
      "Epoch 40, CIFAR-10 Batch 3:  Loss:     0.3925 Validation Accuracy: 0.574400\n",
      "Epoch 40, CIFAR-10 Batch 4:  Loss:     0.5114 Validation Accuracy: 0.578400\n",
      "Epoch 40, CIFAR-10 Batch 5:  Loss:     0.4730 Validation Accuracy: 0.576400\n",
      "Epoch 41, CIFAR-10 Batch 1:  Loss:     0.4534 Validation Accuracy: 0.582200\n",
      "Epoch 41, CIFAR-10 Batch 2:  Loss:     0.4880 Validation Accuracy: 0.568800\n",
      "Epoch 41, CIFAR-10 Batch 3:  Loss:     0.4092 Validation Accuracy: 0.578000\n",
      "Epoch 41, CIFAR-10 Batch 4:  Loss:     0.4831 Validation Accuracy: 0.580000\n",
      "Epoch 41, CIFAR-10 Batch 5:  Loss:     0.5273 Validation Accuracy: 0.578400\n",
      "Epoch 42, CIFAR-10 Batch 1:  Loss:     0.4672 Validation Accuracy: 0.584400\n",
      "Epoch 42, CIFAR-10 Batch 2:  Loss:     0.4513 Validation Accuracy: 0.579000\n",
      "Epoch 42, CIFAR-10 Batch 3:  Loss:     0.3868 Validation Accuracy: 0.574200\n",
      "Epoch 42, CIFAR-10 Batch 4:  Loss:     0.4195 Validation Accuracy: 0.582000\n",
      "Epoch 42, CIFAR-10 Batch 5:  Loss:     0.5053 Validation Accuracy: 0.577200\n",
      "Epoch 43, CIFAR-10 Batch 1:  Loss:     0.4890 Validation Accuracy: 0.582800\n",
      "Epoch 43, CIFAR-10 Batch 2:  Loss:     0.3828 Validation Accuracy: 0.575000\n",
      "Epoch 43, CIFAR-10 Batch 3:  Loss:     0.3673 Validation Accuracy: 0.581800\n",
      "Epoch 43, CIFAR-10 Batch 4:  Loss:     0.4031 Validation Accuracy: 0.578800\n",
      "Epoch 43, CIFAR-10 Batch 5:  Loss:     0.4557 Validation Accuracy: 0.578800\n",
      "Epoch 44, CIFAR-10 Batch 1:  Loss:     0.5111 Validation Accuracy: 0.581800\n"
     ]
    },
    {
     "name": "stdout",
     "output_type": "stream",
     "text": [
      "Epoch 44, CIFAR-10 Batch 2:  Loss:     0.4451 Validation Accuracy: 0.566800\n",
      "Epoch 44, CIFAR-10 Batch 3:  Loss:     0.3727 Validation Accuracy: 0.579000\n",
      "Epoch 44, CIFAR-10 Batch 4:  Loss:     0.4557 Validation Accuracy: 0.589000\n",
      "Epoch 44, CIFAR-10 Batch 5:  Loss:     0.4638 Validation Accuracy: 0.576000\n",
      "Epoch 45, CIFAR-10 Batch 1:  Loss:     0.4465 Validation Accuracy: 0.586000\n",
      "Epoch 45, CIFAR-10 Batch 2:  Loss:     0.4736 Validation Accuracy: 0.574200\n",
      "Epoch 45, CIFAR-10 Batch 3:  Loss:     0.3675 Validation Accuracy: 0.587800\n",
      "Epoch 45, CIFAR-10 Batch 4:  Loss:     0.3928 Validation Accuracy: 0.579000\n",
      "Epoch 45, CIFAR-10 Batch 5:  Loss:     0.4380 Validation Accuracy: 0.582600\n",
      "Epoch 46, CIFAR-10 Batch 1:  Loss:     0.4327 Validation Accuracy: 0.586000\n",
      "Epoch 46, CIFAR-10 Batch 2:  Loss:     0.4377 Validation Accuracy: 0.582400\n",
      "Epoch 46, CIFAR-10 Batch 3:  Loss:     0.3990 Validation Accuracy: 0.580600\n",
      "Epoch 46, CIFAR-10 Batch 4:  Loss:     0.4084 Validation Accuracy: 0.574800\n",
      "Epoch 46, CIFAR-10 Batch 5:  Loss:     0.4591 Validation Accuracy: 0.579800\n",
      "Epoch 47, CIFAR-10 Batch 1:  Loss:     0.4377 Validation Accuracy: 0.589000\n",
      "Epoch 47, CIFAR-10 Batch 2:  Loss:     0.4444 Validation Accuracy: 0.585200\n",
      "Epoch 47, CIFAR-10 Batch 3:  Loss:     0.3865 Validation Accuracy: 0.578800\n",
      "Epoch 47, CIFAR-10 Batch 4:  Loss:     0.3872 Validation Accuracy: 0.576200\n",
      "Epoch 47, CIFAR-10 Batch 5:  Loss:     0.4993 Validation Accuracy: 0.583400\n",
      "Epoch 48, CIFAR-10 Batch 1:  Loss:     0.4458 Validation Accuracy: 0.580200\n",
      "Epoch 48, CIFAR-10 Batch 2:  Loss:     0.4734 Validation Accuracy: 0.571200\n",
      "Epoch 48, CIFAR-10 Batch 3:  Loss:     0.3886 Validation Accuracy: 0.584600\n",
      "Epoch 48, CIFAR-10 Batch 4:  Loss:     0.3690 Validation Accuracy: 0.586000\n",
      "Epoch 48, CIFAR-10 Batch 5:  Loss:     0.4999 Validation Accuracy: 0.575600\n",
      "Epoch 49, CIFAR-10 Batch 1:  Loss:     0.4247 Validation Accuracy: 0.586000\n",
      "Epoch 49, CIFAR-10 Batch 2:  Loss:     0.4474 Validation Accuracy: 0.571800\n",
      "Epoch 49, CIFAR-10 Batch 3:  Loss:     0.3706 Validation Accuracy: 0.572400\n",
      "Epoch 49, CIFAR-10 Batch 4:  Loss:     0.3287 Validation Accuracy: 0.586200\n",
      "Epoch 49, CIFAR-10 Batch 5:  Loss:     0.4534 Validation Accuracy: 0.580200\n",
      "Epoch 50, CIFAR-10 Batch 1:  Loss:     0.3528 Validation Accuracy: 0.584800\n",
      "Epoch 50, CIFAR-10 Batch 2:  Loss:     0.4609 Validation Accuracy: 0.579000\n",
      "Epoch 50, CIFAR-10 Batch 3:  Loss:     0.4122 Validation Accuracy: 0.579200\n",
      "Epoch 50, CIFAR-10 Batch 4:  Loss:     0.3508 Validation Accuracy: 0.580800\n",
      "Epoch 50, CIFAR-10 Batch 5:  Loss:     0.4754 Validation Accuracy: 0.580600\n"
     ]
    }
   ],
   "source": [
    "\"\"\"\n",
    "DON'T MODIFY ANYTHING IN THIS CELL\n",
    "\"\"\"\n",
    "save_model_path = './image_classification'\n",
    "\n",
    "print('Training...')\n",
    "with tf.Session() as sess:\n",
    "    # Initializing the variables\n",
    "    sess.run(tf.global_variables_initializer())\n",
    "    \n",
    "    # Training cycle\n",
    "    for epoch in range(epochs):\n",
    "        # Loop over all batches\n",
    "        n_batches = 5\n",
    "        for batch_i in range(1, n_batches + 1):\n",
    "            for batch_features, batch_labels in helper.load_preprocess_training_batch(batch_i, batch_size):\n",
    "                train_neural_network(sess, optimizer, keep_probability, batch_features, batch_labels)\n",
    "            print('Epoch {:>2}, CIFAR-10 Batch {}:  '.format(epoch + 1, batch_i), end='')\n",
    "            print_stats(sess, batch_features, batch_labels, cost, accuracy)\n",
    "            \n",
    "    # Save Model\n",
    "    saver = tf.train.Saver()\n",
    "    save_path = saver.save(sess, save_model_path)"
   ]
  },
  {
   "cell_type": "markdown",
   "metadata": {},
   "source": [
    "# Checkpoint\n",
    "The model has been saved to disk.\n",
    "## Test Model\n",
    "Test your model against the test dataset.  This will be your final accuracy. You should have an accuracy greater than 50%. If you don't, keep tweaking the model architecture and parameters."
   ]
  },
  {
   "cell_type": "code",
   "execution_count": 54,
   "metadata": {},
   "outputs": [
    {
     "name": "stdout",
     "output_type": "stream",
     "text": [
      "INFO:tensorflow:Restoring parameters from ./image_classification\n",
      "Testing Accuracy: 0.5863330696202531\n",
      "\n"
     ]
    },
    {
     "data": {
      "image/png": "[encoded data removed]",
      "text/plain": [
       "<matplotlib.figure.Figure at 0x7f38d88c4fd0>"
      ]
     },
     "metadata": {
      "image/png": {
       "height": 319,
       "width": 355
      }
     },
     "output_type": "display_data"
    }
   ],
   "source": [
    "\"\"\"\n",
    "DON'T MODIFY ANYTHING IN THIS CELL\n",
    "\"\"\"\n",
    "%matplotlib inline\n",
    "%config InlineBackend.figure_format = 'retina'\n",
    "\n",
    "import tensorflow as tf\n",
    "import pickle\n",
    "import helper\n",
    "import random\n",
    "\n",
    "# Set batch size if not already set\n",
    "try:\n",
    "    if batch_size:\n",
    "        pass\n",
    "except NameError:\n",
    "    batch_size = 64\n",
    "\n",
    "save_model_path = './image_classification'\n",
    "n_samples = 4\n",
    "top_n_predictions = 3\n",
    "\n",
    "def test_model():\n",
    "    \"\"\"\n",
    "    Test the saved model against the test dataset\n",
    "    \"\"\"\n",
    "\n",
    "    test_features, test_labels = pickle.load(open('preprocess_test.p', mode='rb'))\n",
    "    loaded_graph = tf.Graph()\n",
    "\n",
    "    with tf.Session(graph=loaded_graph) as sess:\n",
    "        # Load model\n",
    "        loader = tf.train.import_meta_graph(save_model_path + '.meta')\n",
    "        loader.restore(sess, save_model_path)\n",
    "\n",
    "        # Get Tensors from loaded model\n",
    "        loaded_x = loaded_graph.get_tensor_by_name('x:0')\n",
    "        loaded_y = loaded_graph.get_tensor_by_name('y:0')\n",
    "        loaded_keep_prob = loaded_graph.get_tensor_by_name('keep_prob:0')\n",
    "        loaded_logits = loaded_graph.get_tensor_by_name('logits:0')\n",
    "        loaded_acc = loaded_graph.get_tensor_by_name('accuracy:0')\n",
    "        \n",
    "        # Get accuracy in batches for memory limitations\n",
    "        test_batch_acc_total = 0\n",
    "        test_batch_count = 0\n",
    "        \n",
    "        for test_feature_batch, test_label_batch in helper.batch_features_labels(test_features, test_labels, batch_size):\n",
    "            test_batch_acc_total += sess.run(\n",
    "                loaded_acc,\n",
    "                feed_dict={loaded_x: test_feature_batch, loaded_y: test_label_batch, loaded_keep_prob: 1.0})\n",
    "            test_batch_count += 1\n",
    "\n",
    "        print('Testing Accuracy: {}\\n'.format(test_batch_acc_total/test_batch_count))\n",
    "\n",
    "        # Print Random Samples\n",
    "        random_test_features, random_test_labels = tuple(zip(*random.sample(list(zip(test_features, test_labels)), n_samples)))\n",
    "        random_test_predictions = sess.run(\n",
    "            tf.nn.top_k(tf.nn.softmax(loaded_logits), top_n_predictions),\n",
    "            feed_dict={loaded_x: random_test_features, loaded_y: random_test_labels, loaded_keep_prob: 1.0})\n",
    "        helper.display_image_predictions(random_test_features, random_test_labels, random_test_predictions)\n",
    "\n",
    "\n",
    "test_model()"
   ]
  },
  {
   "cell_type": "markdown",
   "metadata": {},
   "source": [
    "## Why 50-80% Accuracy?\n",
    "You might be wondering why you can't get an accuracy any higher. First things first, 50% isn't bad for a simple CNN.  Pure guessing would get you 10% accuracy. However, you might notice people are getting scores [well above 80%](http://rodrigob.github.io/are_we_there_yet/build/classification_datasets_results.html#43494641522d3130).  That's because we haven't taught you all there is to know about neural networks. We still need to cover a few more techniques.\n",
    "## Submitting This Project\n",
    "When submitting this project, make sure to run all the cells before saving the notebook.  Save the notebook file as \"dlnd_image_classification.ipynb\" and save it as a HTML file under \"File\" -> \"Download as\".  Include the \"helper.py\" and \"problem_unittests.py\" files in your submission."
   ]
  }
 ],
 "metadata": {
  "kernelspec": {
   "display_name": "Python 3",
   "language": "python",
   "name": "python3"
  },
  "language_info": {
   "codemirror_mode": {
    "name": "ipython",
    "version": 3
   },
   "file_extension": ".py",
   "mimetype": "text/x-python",
   "name": "python",
   "nbconvert_exporter": "python",
   "pygments_lexer": "ipython3",
   "version": "3.5.3"
  }
 },
 "nbformat": 4,
 "nbformat_minor": 1
}
