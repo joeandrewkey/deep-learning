{
 "cells": [
  {
   "cell_type": "markdown",
   "metadata": {
    "collapsed": true
   },
   "source": [
    "# Language Translation\n",
    "In this project, you’re going to take a peek into the realm of neural network machine translation.  You’ll be training a sequence to sequence model on a dataset of English and French sentences that can translate new sentences from English to French.\n",
    "## Get the Data\n",
    "Since translating the whole language of English to French will take lots of time to train, we have provided you with a small portion of the English corpus."
   ]
  },
  {
   "cell_type": "code",
   "execution_count": 1,
   "metadata": {
    "collapsed": true
   },
   "outputs": [],
   "source": [
    "\"\"\"\n",
    "DON'T MODIFY ANYTHING IN THIS CELL\n",
    "\"\"\"\n",
    "import helper\n",
    "import problem_unittests as tests\n",
    "\n",
    "source_path = 'data/small_vocab_en'\n",
    "target_path = 'data/small_vocab_fr'\n",
    "source_text = helper.load_data(source_path)\n",
    "target_text = helper.load_data(target_path)"
   ]
  },
  {
   "cell_type": "markdown",
   "metadata": {},
   "source": [
    "## Explore the Data\n",
    "Play around with view_sentence_range to view different parts of the data."
   ]
  },
  {
   "cell_type": "code",
   "execution_count": 2,
   "metadata": {},
   "outputs": [
    {
     "name": "stdout",
     "output_type": "stream",
     "text": [
      "Dataset Stats\n",
      "Roughly the number of unique words: 227\n",
      "Number of sentences: 137861\n",
      "Average number of words in a sentence: 13.225277634719028\n",
      "\n",
      "English sentences 0 to 10:\n",
      "new jersey is sometimes quiet during autumn , and it is snowy in april .\n",
      "the united states is usually chilly during july , and it is usually freezing in november .\n",
      "california is usually quiet during march , and it is usually hot in june .\n",
      "the united states is sometimes mild during june , and it is cold in september .\n",
      "your least liked fruit is the grape , but my least liked is the apple .\n",
      "his favorite fruit is the orange , but my favorite is the grape .\n",
      "paris is relaxing during december , but it is usually chilly in july .\n",
      "new jersey is busy during spring , and it is never hot in march .\n",
      "our least liked fruit is the lemon , but my least liked is the grape .\n",
      "the united states is sometimes busy during january , and it is sometimes warm in november .\n",
      "\n",
      "French sentences 0 to 10:\n",
      "new jersey est parfois calme pendant l' automne , et il est neigeux en avril .\n",
      "les états-unis est généralement froid en juillet , et il gèle habituellement en novembre .\n",
      "california est généralement calme en mars , et il est généralement chaud en juin .\n",
      "les états-unis est parfois légère en juin , et il fait froid en septembre .\n",
      "votre moins aimé fruit est le raisin , mais mon moins aimé est la pomme .\n",
      "son fruit préféré est l'orange , mais mon préféré est le raisin .\n",
      "paris est relaxant en décembre , mais il est généralement froid en juillet .\n",
      "new jersey est occupé au printemps , et il est jamais chaude en mars .\n",
      "notre fruit est moins aimé le citron , mais mon moins aimé est le raisin .\n",
      "les états-unis est parfois occupé en janvier , et il est parfois chaud en novembre .\n"
     ]
    }
   ],
   "source": [
    "view_sentence_range = (0, 10)\n",
    "\n",
    "\"\"\"\n",
    "DON'T MODIFY ANYTHING IN THIS CELL\n",
    "\"\"\"\n",
    "import numpy as np\n",
    "\n",
    "print('Dataset Stats')\n",
    "print('Roughly the number of unique words: {}'.format(len({word: None for word in source_text.split()})))\n",
    "\n",
    "sentences = source_text.split('\\n')\n",
    "word_counts = [len(sentence.split()) for sentence in sentences]\n",
    "print('Number of sentences: {}'.format(len(sentences)))\n",
    "print('Average number of words in a sentence: {}'.format(np.average(word_counts)))\n",
    "\n",
    "print()\n",
    "print('English sentences {} to {}:'.format(*view_sentence_range))\n",
    "print('\\n'.join(source_text.split('\\n')[view_sentence_range[0]:view_sentence_range[1]]))\n",
    "print()\n",
    "print('French sentences {} to {}:'.format(*view_sentence_range))\n",
    "print('\\n'.join(target_text.split('\\n')[view_sentence_range[0]:view_sentence_range[1]]))"
   ]
  },
  {
   "cell_type": "markdown",
   "metadata": {},
   "source": [
    "## Implement Preprocessing Function\n",
    "### Text to Word Ids\n",
    "As you did with other RNNs, you must turn the text into a number so the computer can understand it. In the function `text_to_ids()`, you'll turn `source_text` and `target_text` from words to ids.  However, you need to add the `<EOS>` word id at the end of `target_text`.  This will help the neural network predict when the sentence should end.\n",
    "\n",
    "You can get the `<EOS>` word id by doing:\n",
    "```python\n",
    "target_vocab_to_int['<EOS>']\n",
    "```\n",
    "You can get other word ids using `source_vocab_to_int` and `target_vocab_to_int`."
   ]
  },
  {
   "cell_type": "code",
   "execution_count": 3,
   "metadata": {},
   "outputs": [
    {
     "name": "stdout",
     "output_type": "stream",
     "text": [
      "Tests Passed\n"
     ]
    }
   ],
   "source": [
    "def text_to_ids(source_text, target_text, source_vocab_to_int, target_vocab_to_int):\n",
    "    \"\"\"\n",
    "    Convert source and target text to proper word ids\n",
    "    :param source_text: String that contains all the source text.\n",
    "    :param target_text: String that contains all the target text.\n",
    "    :param source_vocab_to_int: Dictionary to go from the source words to an id\n",
    "    :param target_vocab_to_int: Dictionary to go from the target words to an id\n",
    "    :return: A tuple of lists (source_id_text, target_id_text)\n",
    "    \"\"\"\n",
    "    # TODO: Implement Function\n",
    "    source_ids, target_ids = [], []\n",
    "    source_split = source_text.split(\"\\n\")\n",
    "    for s in source_split:\n",
    "        ids = [source_vocab_to_int[word] for word in s.split()]\n",
    "        source_ids.append(ids)\n",
    "    target_split = target_text.split(\"\\n\")\n",
    "    for s in target_split:\n",
    "        ids = [target_vocab_to_int[word] for word in s.split()]\n",
    "        ids.append(target_vocab_to_int['<EOS>'])\n",
    "        target_ids.append(ids)\n",
    "\n",
    "    return (source_ids, target_ids)\n",
    "\n",
    "\"\"\"\n",
    "DON'T MODIFY ANYTHING IN THIS CELL THAT IS BELOW THIS LINE\n",
    "\"\"\"\n",
    "tests.test_text_to_ids(text_to_ids)"
   ]
  },
  {
   "cell_type": "markdown",
   "metadata": {},
   "source": [
    "### Preprocess all the data and save it\n",
    "Running the code cell below will preprocess all the data and save it to file."
   ]
  },
  {
   "cell_type": "code",
   "execution_count": 4,
   "metadata": {
    "collapsed": true
   },
   "outputs": [],
   "source": [
    "\"\"\"\n",
    "DON'T MODIFY ANYTHING IN THIS CELL\n",
    "\"\"\"\n",
    "helper.preprocess_and_save_data(source_path, target_path, text_to_ids)"
   ]
  },
  {
   "cell_type": "markdown",
   "metadata": {},
   "source": [
    "# Check Point\n",
    "This is your first checkpoint. If you ever decide to come back to this notebook or have to restart the notebook, you can start from here. The preprocessed data has been saved to disk."
   ]
  },
  {
   "cell_type": "code",
   "execution_count": 5,
   "metadata": {
    "collapsed": true
   },
   "outputs": [],
   "source": [
    "\"\"\"\n",
    "DON'T MODIFY ANYTHING IN THIS CELL\n",
    "\"\"\"\n",
    "import numpy as np\n",
    "import helper\n",
    "\n",
    "(source_int_text, target_int_text), (source_vocab_to_int, target_vocab_to_int), _ = helper.load_preprocess()"
   ]
  },
  {
   "cell_type": "markdown",
   "metadata": {},
   "source": [
    "### Check the Version of TensorFlow and Access to GPU\n",
    "This will check to make sure you have the correct version of TensorFlow and access to a GPU"
   ]
  },
  {
   "cell_type": "code",
   "execution_count": 6,
   "metadata": {},
   "outputs": [
    {
     "name": "stdout",
     "output_type": "stream",
     "text": [
      "TensorFlow Version: 1.1.0\n",
      "Default GPU Device: /gpu:0\n"
     ]
    }
   ],
   "source": [
    "\"\"\"\n",
    "DON'T MODIFY ANYTHING IN THIS CELL\n",
    "\"\"\"\n",
    "from distutils.version import LooseVersion\n",
    "import warnings\n",
    "import tensorflow as tf\n",
    "from tensorflow.python.layers.core import Dense\n",
    "\n",
    "# Check TensorFlow Version\n",
    "assert LooseVersion(tf.__version__) >= LooseVersion('1.1'), 'Please use TensorFlow version 1.1 or newer'\n",
    "print('TensorFlow Version: {}'.format(tf.__version__))\n",
    "\n",
    "# Check for a GPU\n",
    "if not tf.test.gpu_device_name():\n",
    "    warnings.warn('No GPU found. Please use a GPU to train your neural network.')\n",
    "else:\n",
    "    print('Default GPU Device: {}'.format(tf.test.gpu_device_name()))"
   ]
  },
  {
   "cell_type": "markdown",
   "metadata": {},
   "source": [
    "## Build the Neural Network\n",
    "You'll build the components necessary to build a Sequence-to-Sequence model by implementing the following functions below:\n",
    "- `model_inputs`\n",
    "- `process_decoder_input`\n",
    "- `encoding_layer`\n",
    "- `decoding_layer_train`\n",
    "- `decoding_layer_infer`\n",
    "- `decoding_layer`\n",
    "- `seq2seq_model`\n",
    "\n",
    "### Input\n",
    "Implement the `model_inputs()` function to create TF Placeholders for the Neural Network. It should create the following placeholders:\n",
    "\n",
    "- Input text placeholder named \"input\" using the TF Placeholder name parameter with rank 2.\n",
    "- Targets placeholder with rank 2.\n",
    "- Learning rate placeholder with rank 0.\n",
    "- Keep probability placeholder named \"keep_prob\" using the TF Placeholder name parameter with rank 0.\n",
    "- Target sequence length placeholder named \"target_sequence_length\" with rank 1\n",
    "- Max target sequence length tensor named \"max_target_len\" getting its value from applying tf.reduce_max on the target_sequence_length placeholder. Rank 0.\n",
    "- Source sequence length placeholder named \"source_sequence_length\" with rank 1\n",
    "\n",
    "Return the placeholders in the following the tuple (input, targets, learning rate, keep probability, target sequence length, max target sequence length, source sequence length)"
   ]
  },
  {
   "cell_type": "code",
   "execution_count": 7,
   "metadata": {},
   "outputs": [
    {
     "name": "stdout",
     "output_type": "stream",
     "text": [
      "Tests Passed\n"
     ]
    }
   ],
   "source": [
    "def model_inputs():\n",
    "    \"\"\"\n",
    "    Create TF Placeholders for input, targets, learning rate, and lengths of source and target sequences.\n",
    "    :return: Tuple (input, targets, learning rate, keep probability, target sequence length,\n",
    "    max target sequence length, source sequence length)\n",
    "    \"\"\"\n",
    "    # TODO: Implement Function\n",
    "    _input = tf.placeholder(tf.int32, [None, None], name=\"input\")\n",
    "    _targets = tf.placeholder(tf.int32, [None, None], name=\"targets\")\n",
    "    _lr = tf.placeholder(tf.float32, name=\"learning_rate\")\n",
    "    _keep_prob = tf.placeholder(tf.float32, name=\"keep_prob\")\n",
    "    _target_sequence_length = tf.placeholder(tf.int32, (None,), name=\"target_sequence_length\")\n",
    "    _max_target_sequence_length = tf.reduce_max(_target_sequence_length, name=\"max_target_len\")\n",
    "    _source_sequence_length = tf.placeholder(tf.int32, (None,), name=\"source_sequence_length\")\n",
    "    return (\n",
    "        _input, _targets, _lr, _keep_prob, _target_sequence_length, \n",
    "        _max_target_sequence_length, _source_sequence_length)\n",
    "\n",
    "\n",
    "\"\"\"\n",
    "DON'T MODIFY ANYTHING IN THIS CELL THAT IS BELOW THIS LINE\n",
    "\"\"\"\n",
    "tests.test_model_inputs(model_inputs)"
   ]
  },
  {
   "cell_type": "markdown",
   "metadata": {},
   "source": [
    "### Process Decoder Input\n",
    "Implement `process_decoder_input` by removing the last word id from each batch in `target_data` and concat the GO ID to the begining of each batch."
   ]
  },
  {
   "cell_type": "code",
   "execution_count": 8,
   "metadata": {},
   "outputs": [
    {
     "name": "stdout",
     "output_type": "stream",
     "text": [
      "Tests Passed\n"
     ]
    }
   ],
   "source": [
    "def process_decoder_input(target_data, target_vocab_to_int, batch_size):\n",
    "    \"\"\"\n",
    "    Preprocess target data for encoding\n",
    "    :param target_data: Target Placehoder\n",
    "    :param target_vocab_to_int: Dictionary to go from the target words to an id\n",
    "    :param batch_size: Batch Size\n",
    "    :return: Preprocessed target data\n",
    "    \"\"\"\n",
    "    # TODO: Implement Function\n",
    "    # worth mentioning that I had a hard time understanding strided_slice, but basically\n",
    "    # you are drawing a rectangle with two coordinates, [0,0] is the top left corner\n",
    "    # [batch_size, -1] is the bottom right corner, and [1,1] just means your stride\n",
    "    # so (in this case, keep everything)\n",
    "    ending = tf.strided_slice(target_data, [0,0], [batch_size, -1], [1,1])\n",
    "    # this basically creates a rank 2 tensor of '<GO'>, that is batch_size x 1, like a vertical vector\n",
    "    # it then pre-pends it to the ending tensor which is batch_size x (len(target[1]) - 1)\n",
    "    # and it does this along the column axis (axis = 1)\n",
    "    decoder_input = tf.concat([tf.fill([batch_size, 1], target_vocab_to_int['<GO>']), ending], 1)\n",
    "    return decoder_input\n",
    "\n",
    "\"\"\"\n",
    "DON'T MODIFY ANYTHING IN THIS CELL THAT IS BELOW THIS LINE\n",
    "\"\"\"\n",
    "tests.test_process_encoding_input(process_decoder_input)"
   ]
  },
  {
   "cell_type": "markdown",
   "metadata": {},
   "source": [
    "### Encoding\n",
    "Implement `encoding_layer()` to create a Encoder RNN layer:\n",
    " * Embed the encoder input using [`tf.contrib.layers.embed_sequence`](https://www.tensorflow.org/api_docs/python/tf/contrib/layers/embed_sequence)\n",
    " * Construct a [stacked](https://github.com/tensorflow/tensorflow/blob/6947f65a374ebf29e74bb71e36fd82760056d82c/tensorflow/docs_src/tutorials/recurrent.md#stacking-multiple-lstms) [`tf.contrib.rnn.LSTMCell`](https://www.tensorflow.org/api_docs/python/tf/contrib/rnn/LSTMCell) wrapped in a [`tf.contrib.rnn.DropoutWrapper`](https://www.tensorflow.org/api_docs/python/tf/contrib/rnn/DropoutWrapper)\n",
    " * Pass cell and embedded input to [`tf.nn.dynamic_rnn()`](https://www.tensorflow.org/api_docs/python/tf/nn/dynamic_rnn)"
   ]
  },
  {
   "cell_type": "code",
   "execution_count": 9,
   "metadata": {
    "scrolled": false
   },
   "outputs": [
    {
     "name": "stdout",
     "output_type": "stream",
     "text": [
      "Tests Passed\n"
     ]
    }
   ],
   "source": [
    "from imp import reload\n",
    "reload(tests)\n",
    "\n",
    "def encoding_layer(rnn_inputs, rnn_size, num_layers, keep_prob, \n",
    "                   source_sequence_length, source_vocab_size, \n",
    "                   encoding_embedding_size):\n",
    "    \"\"\"\n",
    "    Create encoding layer\n",
    "    :param rnn_inputs: Inputs for the RNN\n",
    "    :param rnn_size: RNN Size\n",
    "    :param num_layers: Number of layers\n",
    "    :param keep_prob: Dropout keep probability\n",
    "    :param source_sequence_length: a list of the lengths of each sequence in the batch\n",
    "    :param source_vocab_size: vocabulary size of source data\n",
    "    :param encoding_embedding_size: embedding size of source data\n",
    "    :return: tuple (RNN output, RNN state)\n",
    "    \"\"\"\n",
    "    # TODO: Implement Function\n",
    "    # Taking the input, you use the vocabulary size, and encoding_embedding size as two of\n",
    "    # the i don't know 3?? dimensions, this needs futher study\n",
    "    enc_embedding = tf.contrib.layers.embed_sequence(\n",
    "        rnn_inputs, source_vocab_size, encoding_embedding_size)\n",
    "    \n",
    "    # encoder\n",
    "    def make_cell(rnn_size):\n",
    "        # construct our cell and initialize\n",
    "        # made of LSTM cells\n",
    "        enc_cell = tf.contrib.rnn.DropoutWrapper(\n",
    "            tf.contrib.rnn.LSTMCell(\n",
    "                rnn_size, initializer=tf.random_uniform_initializer(-0.1, 0.1, seed=2)),\n",
    "            input_keep_prob=keep_prob)\n",
    "        \n",
    "        return enc_cell # this is just a single layer of our encoder\n",
    "    \n",
    "    # now to make the full multi_rnn_cell of num_layer encoding cells\n",
    "    enc_cell = tf.contrib.rnn.MultiRNNCell(\n",
    "        [make_cell(rnn_size) for _ in range(num_layers)])\n",
    "    # print(enc_cell)\n",
    "    \n",
    "    # lets embed the input\n",
    "    enc_output, enc_state = tf.nn.dynamic_rnn(\n",
    "        enc_cell, enc_embedding, sequence_length=source_sequence_length, dtype=tf.float32)\n",
    "    \n",
    "    return (enc_output, enc_state)\n",
    "\n",
    "\"\"\"\n",
    "DON'T MODIFY ANYTHING IN THIS CELL THAT IS BELOW THIS LINE\n",
    "\"\"\"\n",
    "tests.test_encoding_layer(encoding_layer)"
   ]
  },
  {
   "cell_type": "markdown",
   "metadata": {},
   "source": [
    "### Decoding - Training\n",
    "Create a training decoding layer:\n",
    "* Create a [`tf.contrib.seq2seq.TrainingHelper`](https://www.tensorflow.org/api_docs/python/tf/contrib/seq2seq/TrainingHelper) \n",
    "* Create a [`tf.contrib.seq2seq.BasicDecoder`](https://www.tensorflow.org/api_docs/python/tf/contrib/seq2seq/BasicDecoder)\n",
    "* Obtain the decoder outputs from [`tf.contrib.seq2seq.dynamic_decode`](https://www.tensorflow.org/api_docs/python/tf/contrib/seq2seq/dynamic_decode)"
   ]
  },
  {
   "cell_type": "code",
   "execution_count": 10,
   "metadata": {},
   "outputs": [
    {
     "name": "stdout",
     "output_type": "stream",
     "text": [
      "Tests Passed\n"
     ]
    }
   ],
   "source": [
    "\n",
    "def decoding_layer_train(encoder_state, dec_cell, dec_embed_input, \n",
    "                         target_sequence_length, max_summary_length, \n",
    "                         output_layer, keep_prob):\n",
    "    \"\"\"\n",
    "    Create a decoding layer for training\n",
    "    :param encoder_state: Encoder State\n",
    "    :param dec_cell: Decoder RNN Cell\n",
    "    :param dec_embed_input: Decoder embedded input\n",
    "    :param target_sequence_length: The lengths of each sequence in the target batch\n",
    "    :param max_summary_length: The length of the longest sequence in the batch\n",
    "    :param output_layer: Function to apply the output layer\n",
    "    :param keep_prob: Dropout keep probability\n",
    "    :return: BasicDecoderOutput containing training logits and sample_id\n",
    "    \"\"\"\n",
    "    # TODO: Implement Function\n",
    "    # helper for the training process.  used by BasicDecoder to read inputs.\n",
    "    # whatever this means :P\n",
    "    # print(max_summary_length.shape, max_summary_length.dtype)\n",
    "    training_helper = tf.contrib.seq2seq.TrainingHelper(\n",
    "        inputs=dec_embed_input, sequence_length=target_sequence_length, time_major=False)\n",
    "    # basic decoder\n",
    "    # ?? get the max target sequence length\n",
    "    #max_target_sequence_length = tf.reduce_max(target_sequence_length)\n",
    "    # wrapping a dropout for keep probability\n",
    "    # print(dec_cell)\n",
    "    dec_cell = tf.contrib.rnn.DropoutWrapper(dec_cell, input_keep_prob=keep_prob)\n",
    "    # print(dec_cell)\n",
    "    # make the training decoder\n",
    "    training_decoder = tf.contrib.seq2seq.BasicDecoder(\n",
    "        dec_cell, training_helper, encoder_state, output_layer)\n",
    "    # perform dynamic decoding using the decoder\n",
    "    x = tf.contrib.seq2seq.dynamic_decode(\n",
    "        training_decoder, impute_finished=True, maximum_iterations=max_summary_length)\n",
    "    basic_decoder_output = x[0]\n",
    "\n",
    "    return basic_decoder_output\n",
    "\n",
    "\n",
    "\n",
    "\"\"\"\n",
    "DON'T MODIFY ANYTHING IN THIS CELL THAT IS BELOW THIS LINE\n",
    "\"\"\"\n",
    "tests.test_decoding_layer_train(decoding_layer_train)"
   ]
  },
  {
   "cell_type": "markdown",
   "metadata": {},
   "source": [
    "### Decoding - Inference\n",
    "Create inference decoder:\n",
    "* Create a [`tf.contrib.seq2seq.GreedyEmbeddingHelper`](https://www.tensorflow.org/api_docs/python/tf/contrib/seq2seq/GreedyEmbeddingHelper)\n",
    "* Create a [`tf.contrib.seq2seq.BasicDecoder`](https://www.tensorflow.org/api_docs/python/tf/contrib/seq2seq/BasicDecoder)\n",
    "* Obtain the decoder outputs from [`tf.contrib.seq2seq.dynamic_decode`](https://www.tensorflow.org/api_docs/python/tf/contrib/seq2seq/dynamic_decode)"
   ]
  },
  {
   "cell_type": "code",
   "execution_count": 11,
   "metadata": {
    "scrolled": true
   },
   "outputs": [
    {
     "name": "stdout",
     "output_type": "stream",
     "text": [
      "Tests Passed\n"
     ]
    }
   ],
   "source": [
    "def decoding_layer_infer(encoder_state, dec_cell, dec_embeddings, start_of_sequence_id,\n",
    "                         end_of_sequence_id, max_target_sequence_length,\n",
    "                         vocab_size, output_layer, batch_size, keep_prob):\n",
    "    \"\"\"\n",
    "    Create a decoding layer for inference\n",
    "    :param encoder_state: Encoder state\n",
    "    :param dec_cell: Decoder RNN Cell\n",
    "    :param dec_embeddings: Decoder embeddings\n",
    "    :param start_of_sequence_id: GO ID\n",
    "    :param end_of_sequence_id: EOS Id\n",
    "    :param max_target_sequence_length: Maximum length of target sequences\n",
    "    :param vocab_size: Size of decoder/target vocabulary\n",
    "    :param decoding_scope: TenorFlow Variable Scope for decoding\n",
    "    :param output_layer: Function to apply the output layer\n",
    "    :param batch_size: Batch size\n",
    "    :param keep_prob: Dropout keep probability\n",
    "    :return: BasicDecoderOutput containing inference logits and sample_id\n",
    "    \"\"\"\n",
    "    # TODO: Implement Function\n",
    "    # create a 1d tensor of <GO> codes as our start tokens\n",
    "    start_tokens = tf.tile(\n",
    "        tf.constant([start_of_sequence_id], dtype=tf.int32),\n",
    "        [batch_size], name=\"start_tokens\")\n",
    "    \n",
    "    # Helper for the inference process\n",
    "    # This is an interesting function, it needs a vector of start_sequences, and a scalar\n",
    "    # of the end_of_sequence\n",
    "    inference_helper = tf.contrib.seq2seq.GreedyEmbeddingHelper(\n",
    "        dec_embeddings, start_tokens, end_of_sequence_id)\n",
    "    \n",
    "\n",
    "    # adding dropout wrapper to the decode cell\n",
    "    dec_cell = tf.contrib.rnn.DropoutWrapper(dec_cell, input_keep_prob=keep_prob)\n",
    "    \n",
    "    # Basic decoder    \n",
    "    inference_decoder = tf.contrib.seq2seq.BasicDecoder(\n",
    "        dec_cell, inference_helper, encoder_state, output_layer)\n",
    "    \n",
    "    # Perform dynamic decoding using the decoder\n",
    "    x = tf.contrib.seq2seq.dynamic_decode(\n",
    "        inference_decoder, impute_finished=True, maximum_iterations=max_target_sequence_length)\n",
    "    \n",
    "    basic_decoder_output = x[0]\n",
    "    \n",
    "    return basic_decoder_output\n",
    "\n",
    "\n",
    "\n",
    "\"\"\"\n",
    "DON'T MODIFY ANYTHING IN THIS CELL THAT IS BELOW THIS LINE\n",
    "\"\"\"\n",
    "tests.test_decoding_layer_infer(decoding_layer_infer)"
   ]
  },
  {
   "cell_type": "markdown",
   "metadata": {},
   "source": [
    "### Build the Decoding Layer\n",
    "Implement `decoding_layer()` to create a Decoder RNN layer.\n",
    "\n",
    "* Embed the target sequences\n",
    "* Construct the decoder LSTM cell (just like you constructed the encoder cell above)\n",
    "* Create an output layer to map the outputs of the decoder to the elements of our vocabulary\n",
    "* Use the your `decoding_layer_train(encoder_state, dec_cell, dec_embed_input, target_sequence_length, max_target_sequence_length, output_layer, keep_prob)` function to get the training logits.\n",
    "* Use your `decoding_layer_infer(encoder_state, dec_cell, dec_embeddings, start_of_sequence_id, end_of_sequence_id, max_target_sequence_length, vocab_size, output_layer, batch_size, keep_prob)` function to get the inference logits.\n",
    "\n",
    "Note: You'll need to use [tf.variable_scope](https://www.tensorflow.org/api_docs/python/tf/variable_scope) to share variables between training and inference."
   ]
  },
  {
   "cell_type": "code",
   "execution_count": 12,
   "metadata": {},
   "outputs": [
    {
     "name": "stdout",
     "output_type": "stream",
     "text": [
      "Tests Passed\n"
     ]
    }
   ],
   "source": [
    "def decoding_layer(dec_input, encoder_state,\n",
    "                   target_sequence_length, max_target_sequence_length,\n",
    "                   rnn_size,\n",
    "                   num_layers, target_vocab_to_int, target_vocab_size,\n",
    "                   batch_size, keep_prob, decoding_embedding_size):\n",
    "    \"\"\"\n",
    "    Create decoding layer\n",
    "    :param dec_input: Decoder input\n",
    "    :param encoder_state: Encoder state\n",
    "    :param target_sequence_length: The lengths of each sequence in the target batch\n",
    "    :param max_target_sequence_length: Maximum length of target sequences\n",
    "    :param rnn_size: RNN Size\n",
    "    :param num_layers: Number of layers\n",
    "    :param target_vocab_to_int: Dictionary to go from the target words to an id\n",
    "    :param target_vocab_size: Size of target vocabulary\n",
    "    :param batch_size: The size of the batch\n",
    "    :param keep_prob: Dropout keep probability\n",
    "    :param decoding_embedding_size: Decoding embedding size\n",
    "    :return: Tuple of (Training BasicDecoderOutput, Inference BasicDecoderOutput)\n",
    "    \"\"\"\n",
    "    # TODO: Implement Function\n",
    "    # 1. Decoder embedding\n",
    "    dec_embeddings = tf.Variable(tf.random_uniform(\n",
    "        [target_vocab_size, decoding_embedding_size]))\n",
    "    dec_embed_input = tf.nn.embedding_lookup(dec_embeddings, dec_input)\n",
    "    \n",
    "    # 2. Construct the decoder cell\n",
    "    def make_cell(rnn_size):\n",
    "        # construct our cell and initialize\n",
    "        # made of LSTM cells\n",
    "        dec_cell = tf.contrib.rnn.DropoutWrapper(\n",
    "            tf.contrib.rnn.LSTMCell(\n",
    "                rnn_size, initializer=tf.random_uniform_initializer(-0.1, 0.1, seed=2)),\n",
    "            input_keep_prob=keep_prob)\n",
    "        \n",
    "        return dec_cell # this is just a single layer of our encoder\n",
    "    \n",
    "    # Stack layers\n",
    "    dec_cell = tf.contrib.rnn.MultiRNNCell([make_cell(rnn_size) for _ in range(num_layers)])  \n",
    "    \n",
    "    # 3. Dense layer to translate decoders outputs at each time step into a choice from the\n",
    "    # target vocabulary\n",
    "    output_layer = Dense(\n",
    "        target_vocab_size, kernel_initializer=tf.truncated_normal_initializer(mean=0.0, stddev=0.1))\n",
    "    \n",
    "    # 4. Set up training decoder\n",
    "    with tf.variable_scope(\"decode\"):\n",
    "        train = decoding_layer_train(\n",
    "            encoder_state, dec_cell, dec_embed_input, target_sequence_length, max_target_sequence_length,\n",
    "            output_layer, keep_prob)\n",
    "    \n",
    "    # 5. Set up inference decoder\n",
    "    with tf.variable_scope(\"decode\", reuse=True):\n",
    "        start_of_sequence_id = target_vocab_to_int['<GO>']\n",
    "        end_of_sequence_id = target_vocab_to_int['<EOS>']\n",
    "        infer = decoding_layer_infer(\n",
    "            encoder_state, dec_cell, dec_embeddings, start_of_sequence_id, end_of_sequence_id,\n",
    "            max_target_sequence_length, target_vocab_size, output_layer, batch_size, keep_prob)\n",
    "    \n",
    "    return (train, infer)\n",
    "\n",
    "\n",
    "\n",
    "\"\"\"\n",
    "DON'T MODIFY ANYTHING IN THIS CELL THAT IS BELOW THIS LINE\n",
    "\"\"\"\n",
    "tests.test_decoding_layer(decoding_layer)"
   ]
  },
  {
   "cell_type": "markdown",
   "metadata": {},
   "source": [
    "### Build the Neural Network\n",
    "Apply the functions you implemented above to:\n",
    "\n",
    "- Encode the input using your `encoding_layer(rnn_inputs, rnn_size, num_layers, keep_prob,  source_sequence_length, source_vocab_size, encoding_embedding_size)`.\n",
    "- Process target data using your `process_decoder_input(target_data, target_vocab_to_int, batch_size)` function.\n",
    "- Decode the encoded input using your `decoding_layer(dec_input, enc_state, target_sequence_length, max_target_sentence_length, rnn_size, num_layers, target_vocab_to_int, target_vocab_size, batch_size, keep_prob, dec_embedding_size)` function."
   ]
  },
  {
   "cell_type": "code",
   "execution_count": 13,
   "metadata": {},
   "outputs": [
    {
     "name": "stdout",
     "output_type": "stream",
     "text": [
      "Tests Passed\n"
     ]
    }
   ],
   "source": [
    "def seq2seq_model(input_data, target_data, keep_prob, batch_size,\n",
    "                  source_sequence_length, target_sequence_length,\n",
    "                  max_target_sentence_length,\n",
    "                  source_vocab_size, target_vocab_size,\n",
    "                  enc_embedding_size, dec_embedding_size,\n",
    "                  rnn_size, num_layers, target_vocab_to_int):\n",
    "    \"\"\"\n",
    "    Build the Sequence-to-Sequence part of the neural network\n",
    "    :param input_data: Input placeholder\n",
    "    :param target_data: Target placeholder\n",
    "    :param keep_prob: Dropout keep probability placeholder\n",
    "    :param batch_size: Batch Size\n",
    "    :param source_sequence_length: Sequence Lengths of source sequences in the batch\n",
    "    :param target_sequence_length: Sequence Lengths of target sequences in the batch\n",
    "    :param source_vocab_size: Source vocabulary size\n",
    "    :param target_vocab_size: Target vocabulary size\n",
    "    :param enc_embedding_size: Decoder embedding size\n",
    "    :param dec_embedding_size: Encoder embedding size\n",
    "    :param rnn_size: RNN Size\n",
    "    :param num_layers: Number of layers\n",
    "    :param target_vocab_to_int: Dictionary to go from the target words to an id\n",
    "    :return: Tuple of (Training BasicDecoderOutput, Inference BasicDecoderOutput)\n",
    "    \"\"\"\n",
    "    # TODO: Implement Function\n",
    "    # 1. Encode the input\n",
    "    _, enc_state = encoding_layer(\n",
    "        input_data, rnn_size, num_layers, keep_prob, source_sequence_length, source_vocab_size,\n",
    "        enc_embedding_size)\n",
    "    # 2. Process target data\n",
    "    dec_input = process_decoder_input(\n",
    "        target_data, target_vocab_to_int, batch_size)\n",
    "    \n",
    "    # 3. Decode the encoded input using the decoding layer\n",
    "    train, infer = decoding_layer(\n",
    "        dec_input, enc_state, target_sequence_length, max_target_sentence_length, rnn_size,\n",
    "        num_layers, target_vocab_to_int, target_vocab_size, batch_size, keep_prob, dec_embedding_size)\n",
    "    \n",
    "    return train, infer\n",
    "\n",
    "\n",
    "\"\"\"\n",
    "DON'T MODIFY ANYTHING IN THIS CELL THAT IS BELOW THIS LINE\n",
    "\"\"\"\n",
    "tests.test_seq2seq_model(seq2seq_model)"
   ]
  },
  {
   "cell_type": "markdown",
   "metadata": {},
   "source": [
    "## Neural Network Training\n",
    "### Hyperparameters\n",
    "Tune the following parameters:\n",
    "\n",
    "- Set `epochs` to the number of epochs.\n",
    "- Set `batch_size` to the batch size.\n",
    "- Set `rnn_size` to the size of the RNNs.\n",
    "- Set `num_layers` to the number of layers.\n",
    "- Set `encoding_embedding_size` to the size of the embedding for the encoder.\n",
    "- Set `decoding_embedding_size` to the size of the embedding for the decoder.\n",
    "- Set `learning_rate` to the learning rate.\n",
    "- Set `keep_probability` to the Dropout keep probability\n",
    "- Set `display_step` to state how many steps between each debug output statement"
   ]
  },
  {
   "cell_type": "code",
   "execution_count": 22,
   "metadata": {
    "collapsed": true
   },
   "outputs": [],
   "source": [
    "# Number of Epochs\n",
    "epochs = 20\n",
    "# Batch Size\n",
    "batch_size = 256\n",
    "# RNN Size\n",
    "rnn_size = 150\n",
    "# Number of Layers\n",
    "num_layers = 2\n",
    "# Embedding Size\n",
    "encoding_embedding_size = 15\n",
    "decoding_embedding_size = 15\n",
    "# Learning Rate\n",
    "learning_rate = 0.001\n",
    "# Dropout Keep Probability\n",
    "keep_probability = 0.75\n",
    "display_step = 50"
   ]
  },
  {
   "cell_type": "markdown",
   "metadata": {},
   "source": [
    "### Build the Graph\n",
    "Build the graph using the neural network you implemented."
   ]
  },
  {
   "cell_type": "code",
   "execution_count": 23,
   "metadata": {},
   "outputs": [],
   "source": [
    "\"\"\"\n",
    "DON'T MODIFY ANYTHING IN THIS CELL\n",
    "\"\"\"\n",
    "save_path = 'checkpoints/dev'\n",
    "(source_int_text, target_int_text), (source_vocab_to_int, target_vocab_to_int), _ = helper.load_preprocess()\n",
    "max_target_sentence_length = max([len(sentence) for sentence in source_int_text])\n",
    "\n",
    "train_graph = tf.Graph()\n",
    "with train_graph.as_default():\n",
    "    input_data, targets, lr, keep_prob, target_sequence_length, max_target_sequence_length, source_sequence_length = model_inputs()\n",
    "\n",
    "    #sequence_length = tf.placeholder_with_default(max_target_sentence_length, None, name='sequence_length')\n",
    "    input_shape = tf.shape(input_data)\n",
    "\n",
    "    train_logits, inference_logits = seq2seq_model(tf.reverse(input_data, [-1]),\n",
    "                                                   targets,\n",
    "                                                   keep_prob,\n",
    "                                                   batch_size,\n",
    "                                                   source_sequence_length,\n",
    "                                                   target_sequence_length,\n",
    "                                                   max_target_sequence_length,\n",
    "                                                   len(source_vocab_to_int),\n",
    "                                                   len(target_vocab_to_int),\n",
    "                                                   encoding_embedding_size,\n",
    "                                                   decoding_embedding_size,\n",
    "                                                   rnn_size,\n",
    "                                                   num_layers,\n",
    "                                                   target_vocab_to_int)\n",
    "\n",
    "\n",
    "    training_logits = tf.identity(train_logits.rnn_output, name='logits')\n",
    "    inference_logits = tf.identity(inference_logits.sample_id, name='predictions')\n",
    "\n",
    "    masks = tf.sequence_mask(target_sequence_length, max_target_sequence_length, dtype=tf.float32, name='masks')\n",
    "\n",
    "    with tf.name_scope(\"optimization\"):\n",
    "        # Loss function\n",
    "        cost = tf.contrib.seq2seq.sequence_loss(\n",
    "            training_logits,\n",
    "            targets,\n",
    "            masks)\n",
    "\n",
    "        # Optimizer\n",
    "        optimizer = tf.train.AdamOptimizer(lr)\n",
    "\n",
    "        # Gradient Clipping\n",
    "        gradients = optimizer.compute_gradients(cost)\n",
    "        capped_gradients = [(tf.clip_by_value(grad, -1., 1.), var) for grad, var in gradients if grad is not None]\n",
    "        train_op = optimizer.apply_gradients(capped_gradients)\n"
   ]
  },
  {
   "cell_type": "markdown",
   "metadata": {},
   "source": [
    "Batch and pad the source and target sequences"
   ]
  },
  {
   "cell_type": "code",
   "execution_count": 24,
   "metadata": {
    "collapsed": true
   },
   "outputs": [],
   "source": [
    "\"\"\"\n",
    "DON'T MODIFY ANYTHING IN THIS CELL\n",
    "\"\"\"\n",
    "def pad_sentence_batch(sentence_batch, pad_int):\n",
    "    \"\"\"Pad sentences with <PAD> so that each sentence of a batch has the same length\"\"\"\n",
    "    max_sentence = max([len(sentence) for sentence in sentence_batch])\n",
    "    return [sentence + [pad_int] * (max_sentence - len(sentence)) for sentence in sentence_batch]\n",
    "\n",
    "\n",
    "def get_batches(sources, targets, batch_size, source_pad_int, target_pad_int):\n",
    "    \"\"\"Batch targets, sources, and the lengths of their sentences together\"\"\"\n",
    "    for batch_i in range(0, len(sources)//batch_size):\n",
    "        start_i = batch_i * batch_size\n",
    "\n",
    "        # Slice the right amount for the batch\n",
    "        sources_batch = sources[start_i:start_i + batch_size]\n",
    "        targets_batch = targets[start_i:start_i + batch_size]\n",
    "\n",
    "        # Pad\n",
    "        pad_sources_batch = np.array(pad_sentence_batch(sources_batch, source_pad_int))\n",
    "        pad_targets_batch = np.array(pad_sentence_batch(targets_batch, target_pad_int))\n",
    "\n",
    "        # Need the lengths for the _lengths parameters\n",
    "        pad_targets_lengths = []\n",
    "        for target in pad_targets_batch:\n",
    "            pad_targets_lengths.append(len(target))\n",
    "\n",
    "        pad_source_lengths = []\n",
    "        for source in pad_sources_batch:\n",
    "            pad_source_lengths.append(len(source))\n",
    "\n",
    "        yield pad_sources_batch, pad_targets_batch, pad_source_lengths, pad_targets_lengths\n"
   ]
  },
  {
   "cell_type": "markdown",
   "metadata": {},
   "source": [
    "### Train\n",
    "Train the neural network on the preprocessed data. If you have a hard time getting a good loss, check the forms to see if anyone is having the same problem."
   ]
  },
  {
   "cell_type": "code",
   "execution_count": 25,
   "metadata": {
    "scrolled": true
   },
   "outputs": [
    {
     "name": "stderr",
     "output_type": "stream",
     "text": [
      "\r",
      "  0%|          | 0/20 [00:00<?, ?it/s]"
     ]
    },
    {
     "name": "stdout",
     "output_type": "stream",
     "text": [
      "Epoch   0 Batch   50/538 - Train Accuracy: 0.3299, Validation Accuracy: 0.3906, Loss: 2.9994\n",
      "Epoch   0 Batch  100/538 - Train Accuracy: 0.4225, Validation Accuracy: 0.4751, Loss: 2.5386\n",
      "Epoch   0 Batch  150/538 - Train Accuracy: 0.4643, Validation Accuracy: 0.5051, Loss: 2.2838\n",
      "Epoch   0 Batch  200/538 - Train Accuracy: 0.4641, Validation Accuracy: 0.5140, Loss: 2.0890\n",
      "Epoch   0 Batch  250/538 - Train Accuracy: 0.4637, Validation Accuracy: 0.5238, Loss: 1.9422\n",
      "Epoch   0 Batch  300/538 - Train Accuracy: 0.4712, Validation Accuracy: 0.4877, Loss: 1.6597\n",
      "Epoch   0 Batch  350/538 - Train Accuracy: 0.4950, Validation Accuracy: 0.5137, Loss: 1.5511\n",
      "Epoch   0 Batch  400/538 - Train Accuracy: 0.5086, Validation Accuracy: 0.5302, Loss: 1.3874\n",
      "Epoch   0 Batch  450/538 - Train Accuracy: 0.5372, Validation Accuracy: 0.5421, Loss: 1.2669\n",
      "Epoch   0 Batch  500/538 - Train Accuracy: 0.5259, Validation Accuracy: 0.5336, Loss: 1.1211\n"
     ]
    },
    {
     "name": "stderr",
     "output_type": "stream",
     "text": [
      "\r",
      "  5%|▌         | 1/20 [00:55<17:39, 55.76s/it]"
     ]
    },
    {
     "name": "stdout",
     "output_type": "stream",
     "text": [
      "Epoch   1 Batch   50/538 - Train Accuracy: 0.5236, Validation Accuracy: 0.5513, Loss: 1.0481\n",
      "Epoch   1 Batch  100/538 - Train Accuracy: 0.5350, Validation Accuracy: 0.5616, Loss: 0.9892\n",
      "Epoch   1 Batch  150/538 - Train Accuracy: 0.5516, Validation Accuracy: 0.5497, Loss: 0.9419\n",
      "Epoch   1 Batch  200/538 - Train Accuracy: 0.5574, Validation Accuracy: 0.5614, Loss: 0.8972\n",
      "Epoch   1 Batch  250/538 - Train Accuracy: 0.5514, Validation Accuracy: 0.5723, Loss: 0.8655\n",
      "Epoch   1 Batch  300/538 - Train Accuracy: 0.5844, Validation Accuracy: 0.5760, Loss: 0.8136\n",
      "Epoch   1 Batch  350/538 - Train Accuracy: 0.5755, Validation Accuracy: 0.5653, Loss: 0.8178\n",
      "Epoch   1 Batch  400/538 - Train Accuracy: 0.5701, Validation Accuracy: 0.5877, Loss: 0.7838\n",
      "Epoch   1 Batch  450/538 - Train Accuracy: 0.6068, Validation Accuracy: 0.6014, Loss: 0.7841\n",
      "Epoch   1 Batch  500/538 - Train Accuracy: 0.6087, Validation Accuracy: 0.6065, Loss: 0.6852\n"
     ]
    },
    {
     "name": "stderr",
     "output_type": "stream",
     "text": [
      "\r",
      " 10%|█         | 2/20 [01:51<16:42, 55.68s/it]"
     ]
    },
    {
     "name": "stdout",
     "output_type": "stream",
     "text": [
      "Epoch   2 Batch   50/538 - Train Accuracy: 0.5865, Validation Accuracy: 0.6087, Loss: 0.7234\n",
      "Epoch   2 Batch  100/538 - Train Accuracy: 0.5805, Validation Accuracy: 0.6069, Loss: 0.7067\n",
      "Epoch   2 Batch  150/538 - Train Accuracy: 0.6027, Validation Accuracy: 0.6113, Loss: 0.6879\n",
      "Epoch   2 Batch  200/538 - Train Accuracy: 0.6100, Validation Accuracy: 0.6135, Loss: 0.6682\n",
      "Epoch   2 Batch  250/538 - Train Accuracy: 0.5908, Validation Accuracy: 0.6099, Loss: 0.6586\n",
      "Epoch   2 Batch  300/538 - Train Accuracy: 0.6112, Validation Accuracy: 0.6064, Loss: 0.6223\n",
      "Epoch   2 Batch  350/538 - Train Accuracy: 0.6064, Validation Accuracy: 0.6200, Loss: 0.6349\n",
      "Epoch   2 Batch  400/538 - Train Accuracy: 0.6114, Validation Accuracy: 0.6165, Loss: 0.6082\n",
      "Epoch   2 Batch  450/538 - Train Accuracy: 0.6183, Validation Accuracy: 0.6158, Loss: 0.6211\n",
      "Epoch   2 Batch  500/538 - Train Accuracy: 0.6399, Validation Accuracy: 0.6303, Loss: 0.5470\n"
     ]
    },
    {
     "name": "stderr",
     "output_type": "stream",
     "text": [
      "\r",
      " 15%|█▌        | 3/20 [02:46<15:45, 55.63s/it]"
     ]
    },
    {
     "name": "stdout",
     "output_type": "stream",
     "text": [
      "Epoch   3 Batch   50/538 - Train Accuracy: 0.6326, Validation Accuracy: 0.6374, Loss: 0.5921\n",
      "Epoch   3 Batch  100/538 - Train Accuracy: 0.6236, Validation Accuracy: 0.6413, Loss: 0.5747\n",
      "Epoch   3 Batch  150/538 - Train Accuracy: 0.6535, Validation Accuracy: 0.6355, Loss: 0.5664\n",
      "Epoch   3 Batch  200/538 - Train Accuracy: 0.6408, Validation Accuracy: 0.6381, Loss: 0.5531\n",
      "Epoch   3 Batch  250/538 - Train Accuracy: 0.6113, Validation Accuracy: 0.6394, Loss: 0.5652\n",
      "Epoch   3 Batch  300/538 - Train Accuracy: 0.6499, Validation Accuracy: 0.6474, Loss: 0.5428\n",
      "Epoch   3 Batch  350/538 - Train Accuracy: 0.6542, Validation Accuracy: 0.6436, Loss: 0.5404\n",
      "Epoch   3 Batch  400/538 - Train Accuracy: 0.6466, Validation Accuracy: 0.6518, Loss: 0.5287\n",
      "Epoch   3 Batch  450/538 - Train Accuracy: 0.6438, Validation Accuracy: 0.6641, Loss: 0.5340\n",
      "Epoch   3 Batch  500/538 - Train Accuracy: 0.6683, Validation Accuracy: 0.6596, Loss: 0.4745\n"
     ]
    },
    {
     "name": "stderr",
     "output_type": "stream",
     "text": [
      "\r",
      " 20%|██        | 4/20 [03:42<14:49, 55.59s/it]"
     ]
    },
    {
     "name": "stdout",
     "output_type": "stream",
     "text": [
      "Epoch   4 Batch   50/538 - Train Accuracy: 0.6646, Validation Accuracy: 0.6664, Loss: 0.5057\n",
      "Epoch   4 Batch  100/538 - Train Accuracy: 0.6484, Validation Accuracy: 0.6726, Loss: 0.4928\n",
      "Epoch   4 Batch  150/538 - Train Accuracy: 0.6777, Validation Accuracy: 0.6713, Loss: 0.4815\n",
      "Epoch   4 Batch  200/538 - Train Accuracy: 0.6691, Validation Accuracy: 0.6795, Loss: 0.4647\n",
      "Epoch   4 Batch  250/538 - Train Accuracy: 0.6469, Validation Accuracy: 0.6774, Loss: 0.4749\n",
      "Epoch   4 Batch  300/538 - Train Accuracy: 0.6749, Validation Accuracy: 0.6784, Loss: 0.4540\n",
      "Epoch   4 Batch  350/538 - Train Accuracy: 0.6819, Validation Accuracy: 0.6815, Loss: 0.4478\n",
      "Epoch   4 Batch  400/538 - Train Accuracy: 0.6726, Validation Accuracy: 0.6779, Loss: 0.4394\n",
      "Epoch   4 Batch  450/538 - Train Accuracy: 0.6842, Validation Accuracy: 0.6887, Loss: 0.4439\n",
      "Epoch   4 Batch  500/538 - Train Accuracy: 0.6983, Validation Accuracy: 0.7005, Loss: 0.3926\n"
     ]
    },
    {
     "name": "stderr",
     "output_type": "stream",
     "text": [
      "\r",
      " 25%|██▌       | 5/20 [04:38<13:54, 55.64s/it]"
     ]
    },
    {
     "name": "stdout",
     "output_type": "stream",
     "text": [
      "Epoch   5 Batch   50/538 - Train Accuracy: 0.6883, Validation Accuracy: 0.6994, Loss: 0.4193\n",
      "Epoch   5 Batch  100/538 - Train Accuracy: 0.6736, Validation Accuracy: 0.7072, Loss: 0.4052\n",
      "Epoch   5 Batch  150/538 - Train Accuracy: 0.7055, Validation Accuracy: 0.7024, Loss: 0.4040\n",
      "Epoch   5 Batch  200/538 - Train Accuracy: 0.7021, Validation Accuracy: 0.7077, Loss: 0.3926\n",
      "Epoch   5 Batch  250/538 - Train Accuracy: 0.6871, Validation Accuracy: 0.7072, Loss: 0.4013\n",
      "Epoch   5 Batch  300/538 - Train Accuracy: 0.6938, Validation Accuracy: 0.7086, Loss: 0.3908\n",
      "Epoch   5 Batch  350/538 - Train Accuracy: 0.6959, Validation Accuracy: 0.7072, Loss: 0.3833\n",
      "Epoch   5 Batch  400/538 - Train Accuracy: 0.7072, Validation Accuracy: 0.7083, Loss: 0.3810\n",
      "Epoch   5 Batch  450/538 - Train Accuracy: 0.7245, Validation Accuracy: 0.7202, Loss: 0.3813\n",
      "Epoch   5 Batch  500/538 - Train Accuracy: 0.7209, Validation Accuracy: 0.7273, Loss: 0.3425\n"
     ]
    },
    {
     "name": "stderr",
     "output_type": "stream",
     "text": [
      "\r",
      " 30%|███       | 6/20 [05:33<12:59, 55.71s/it]"
     ]
    },
    {
     "name": "stdout",
     "output_type": "stream",
     "text": [
      "Epoch   6 Batch   50/538 - Train Accuracy: 0.7121, Validation Accuracy: 0.7235, Loss: 0.3716\n",
      "Epoch   6 Batch  100/538 - Train Accuracy: 0.7195, Validation Accuracy: 0.7356, Loss: 0.3577\n",
      "Epoch   6 Batch  150/538 - Train Accuracy: 0.7229, Validation Accuracy: 0.7200, Loss: 0.3612\n",
      "Epoch   6 Batch  200/538 - Train Accuracy: 0.7357, Validation Accuracy: 0.7367, Loss: 0.3492\n",
      "Epoch   6 Batch  250/538 - Train Accuracy: 0.7150, Validation Accuracy: 0.7376, Loss: 0.3560\n",
      "Epoch   6 Batch  300/538 - Train Accuracy: 0.7230, Validation Accuracy: 0.7454, Loss: 0.3466\n",
      "Epoch   6 Batch  350/538 - Train Accuracy: 0.7333, Validation Accuracy: 0.7425, Loss: 0.3468\n",
      "Epoch   6 Batch  400/538 - Train Accuracy: 0.7435, Validation Accuracy: 0.7449, Loss: 0.3402\n",
      "Epoch   6 Batch  450/538 - Train Accuracy: 0.7547, Validation Accuracy: 0.7583, Loss: 0.3439\n",
      "Epoch   6 Batch  500/538 - Train Accuracy: 0.7521, Validation Accuracy: 0.7567, Loss: 0.3008\n"
     ]
    },
    {
     "name": "stderr",
     "output_type": "stream",
     "text": [
      "\r",
      " 35%|███▌      | 7/20 [06:29<12:05, 55.81s/it]"
     ]
    },
    {
     "name": "stdout",
     "output_type": "stream",
     "text": [
      "Epoch   7 Batch   50/538 - Train Accuracy: 0.7389, Validation Accuracy: 0.7633, Loss: 0.3268\n",
      "Epoch   7 Batch  100/538 - Train Accuracy: 0.7375, Validation Accuracy: 0.7594, Loss: 0.3172\n",
      "Epoch   7 Batch  150/538 - Train Accuracy: 0.7471, Validation Accuracy: 0.7637, Loss: 0.3146\n",
      "Epoch   7 Batch  200/538 - Train Accuracy: 0.7512, Validation Accuracy: 0.7656, Loss: 0.3013\n",
      "Epoch   7 Batch  250/538 - Train Accuracy: 0.7312, Validation Accuracy: 0.7658, Loss: 0.3135\n",
      "Epoch   7 Batch  300/538 - Train Accuracy: 0.7467, Validation Accuracy: 0.7695, Loss: 0.2987\n",
      "Epoch   7 Batch  350/538 - Train Accuracy: 0.7671, Validation Accuracy: 0.7679, Loss: 0.3018\n",
      "Epoch   7 Batch  400/538 - Train Accuracy: 0.7450, Validation Accuracy: 0.7601, Loss: 0.2958\n",
      "Epoch   7 Batch  450/538 - Train Accuracy: 0.7606, Validation Accuracy: 0.7727, Loss: 0.3047\n",
      "Epoch   7 Batch  500/538 - Train Accuracy: 0.7688, Validation Accuracy: 0.7797, Loss: 0.2637\n"
     ]
    },
    {
     "name": "stderr",
     "output_type": "stream",
     "text": [
      "\r",
      " 40%|████      | 8/20 [07:25<11:08, 55.71s/it]"
     ]
    },
    {
     "name": "stdout",
     "output_type": "stream",
     "text": [
      "Epoch   8 Batch   50/538 - Train Accuracy: 0.7434, Validation Accuracy: 0.7800, Loss: 0.2882\n",
      "Epoch   8 Batch  100/538 - Train Accuracy: 0.7482, Validation Accuracy: 0.7797, Loss: 0.2792\n",
      "Epoch   8 Batch  150/538 - Train Accuracy: 0.7686, Validation Accuracy: 0.7754, Loss: 0.2759\n",
      "Epoch   8 Batch  200/538 - Train Accuracy: 0.7676, Validation Accuracy: 0.7846, Loss: 0.2676\n",
      "Epoch   8 Batch  250/538 - Train Accuracy: 0.7441, Validation Accuracy: 0.7743, Loss: 0.2759\n",
      "Epoch   8 Batch  300/538 - Train Accuracy: 0.7602, Validation Accuracy: 0.7910, Loss: 0.2649\n",
      "Epoch   8 Batch  350/538 - Train Accuracy: 0.8039, Validation Accuracy: 0.7992, Loss: 0.2704\n",
      "Epoch   8 Batch  400/538 - Train Accuracy: 0.7757, Validation Accuracy: 0.8068, Loss: 0.2608\n",
      "Epoch   8 Batch  450/538 - Train Accuracy: 0.7958, Validation Accuracy: 0.8001, Loss: 0.2716\n",
      "Epoch   8 Batch  500/538 - Train Accuracy: 0.8059, Validation Accuracy: 0.8063, Loss: 0.2233\n"
     ]
    },
    {
     "name": "stderr",
     "output_type": "stream",
     "text": [
      "\r",
      " 45%|████▌     | 9/20 [08:21<10:12, 55.67s/it]"
     ]
    },
    {
     "name": "stdout",
     "output_type": "stream",
     "text": [
      "Epoch   9 Batch   50/538 - Train Accuracy: 0.8045, Validation Accuracy: 0.8066, Loss: 0.2446\n",
      "Epoch   9 Batch  100/538 - Train Accuracy: 0.7963, Validation Accuracy: 0.8141, Loss: 0.2333\n",
      "Epoch   9 Batch  150/538 - Train Accuracy: 0.8143, Validation Accuracy: 0.8169, Loss: 0.2409\n",
      "Epoch   9 Batch  200/538 - Train Accuracy: 0.8381, Validation Accuracy: 0.8224, Loss: 0.2274\n",
      "Epoch   9 Batch  250/538 - Train Accuracy: 0.8023, Validation Accuracy: 0.8221, Loss: 0.2338\n",
      "Epoch   9 Batch  300/538 - Train Accuracy: 0.8235, Validation Accuracy: 0.8386, Loss: 0.2239\n",
      "Epoch   9 Batch  350/538 - Train Accuracy: 0.8464, Validation Accuracy: 0.8324, Loss: 0.2312\n",
      "Epoch   9 Batch  400/538 - Train Accuracy: 0.8296, Validation Accuracy: 0.8398, Loss: 0.2235\n",
      "Epoch   9 Batch  450/538 - Train Accuracy: 0.8358, Validation Accuracy: 0.8446, Loss: 0.2309\n",
      "Epoch   9 Batch  500/538 - Train Accuracy: 0.8549, Validation Accuracy: 0.8279, Loss: 0.1978\n"
     ]
    },
    {
     "name": "stderr",
     "output_type": "stream",
     "text": [
      "\r",
      " 50%|█████     | 10/20 [09:16<09:16, 55.66s/it]"
     ]
    },
    {
     "name": "stdout",
     "output_type": "stream",
     "text": [
      "Epoch  10 Batch   50/538 - Train Accuracy: 0.8404, Validation Accuracy: 0.8457, Loss: 0.2145\n",
      "Epoch  10 Batch  100/538 - Train Accuracy: 0.8367, Validation Accuracy: 0.8519, Loss: 0.2113\n",
      "Epoch  10 Batch  150/538 - Train Accuracy: 0.8430, Validation Accuracy: 0.8466, Loss: 0.2019\n",
      "Epoch  10 Batch  200/538 - Train Accuracy: 0.8561, Validation Accuracy: 0.8400, Loss: 0.1940\n",
      "Epoch  10 Batch  250/538 - Train Accuracy: 0.8457, Validation Accuracy: 0.8603, Loss: 0.1883\n",
      "Epoch  10 Batch  300/538 - Train Accuracy: 0.8480, Validation Accuracy: 0.8567, Loss: 0.1826\n",
      "Epoch  10 Batch  350/538 - Train Accuracy: 0.8495, Validation Accuracy: 0.8493, Loss: 0.1868\n",
      "Epoch  10 Batch  400/538 - Train Accuracy: 0.8499, Validation Accuracy: 0.8569, Loss: 0.1810\n",
      "Epoch  10 Batch  450/538 - Train Accuracy: 0.8477, Validation Accuracy: 0.8587, Loss: 0.1837\n",
      "Epoch  10 Batch  500/538 - Train Accuracy: 0.8734, Validation Accuracy: 0.8638, Loss: 0.1540\n"
     ]
    },
    {
     "name": "stderr",
     "output_type": "stream",
     "text": [
      "\r",
      " 55%|█████▌    | 11/20 [10:12<08:21, 55.69s/it]"
     ]
    },
    {
     "name": "stdout",
     "output_type": "stream",
     "text": [
      "Epoch  11 Batch   50/538 - Train Accuracy: 0.8729, Validation Accuracy: 0.8596, Loss: 0.1685\n",
      "Epoch  11 Batch  100/538 - Train Accuracy: 0.8633, Validation Accuracy: 0.8723, Loss: 0.1600\n",
      "Epoch  11 Batch  150/538 - Train Accuracy: 0.8691, Validation Accuracy: 0.8706, Loss: 0.1595\n",
      "Epoch  11 Batch  200/538 - Train Accuracy: 0.8908, Validation Accuracy: 0.8750, Loss: 0.1538\n",
      "Epoch  11 Batch  250/538 - Train Accuracy: 0.8756, Validation Accuracy: 0.8709, Loss: 0.1656\n",
      "Epoch  11 Batch  300/538 - Train Accuracy: 0.8817, Validation Accuracy: 0.8835, Loss: 0.1538\n",
      "Epoch  11 Batch  350/538 - Train Accuracy: 0.8841, Validation Accuracy: 0.8786, Loss: 0.1571\n",
      "Epoch  11 Batch  400/538 - Train Accuracy: 0.8942, Validation Accuracy: 0.8855, Loss: 0.1517\n",
      "Epoch  11 Batch  450/538 - Train Accuracy: 0.8795, Validation Accuracy: 0.8786, Loss: 0.1606\n",
      "Epoch  11 Batch  500/538 - Train Accuracy: 0.8915, Validation Accuracy: 0.8725, Loss: 0.1333\n"
     ]
    },
    {
     "name": "stderr",
     "output_type": "stream",
     "text": [
      "\r",
      " 60%|██████    | 12/20 [11:08<07:25, 55.68s/it]"
     ]
    },
    {
     "name": "stdout",
     "output_type": "stream",
     "text": [
      "Epoch  12 Batch   50/538 - Train Accuracy: 0.8729, Validation Accuracy: 0.8720, Loss: 0.1391\n",
      "Epoch  12 Batch  100/538 - Train Accuracy: 0.8967, Validation Accuracy: 0.9020, Loss: 0.1366\n",
      "Epoch  12 Batch  150/538 - Train Accuracy: 0.8846, Validation Accuracy: 0.8912, Loss: 0.1452\n",
      "Epoch  12 Batch  200/538 - Train Accuracy: 0.8975, Validation Accuracy: 0.8887, Loss: 0.1378\n",
      "Epoch  12 Batch  250/538 - Train Accuracy: 0.8867, Validation Accuracy: 0.8949, Loss: 0.1420\n",
      "Epoch  12 Batch  300/538 - Train Accuracy: 0.8964, Validation Accuracy: 0.8952, Loss: 0.1410\n",
      "Epoch  12 Batch  350/538 - Train Accuracy: 0.8930, Validation Accuracy: 0.8979, Loss: 0.1373\n",
      "Epoch  12 Batch  400/538 - Train Accuracy: 0.9115, Validation Accuracy: 0.8995, Loss: 0.1311\n",
      "Epoch  12 Batch  450/538 - Train Accuracy: 0.8888, Validation Accuracy: 0.8977, Loss: 0.1457\n",
      "Epoch  12 Batch  500/538 - Train Accuracy: 0.9075, Validation Accuracy: 0.8940, Loss: 0.1156\n"
     ]
    },
    {
     "name": "stderr",
     "output_type": "stream",
     "text": [
      "\r",
      " 65%|██████▌   | 13/20 [12:03<06:28, 55.47s/it]"
     ]
    },
    {
     "name": "stdout",
     "output_type": "stream",
     "text": [
      "Epoch  13 Batch   50/538 - Train Accuracy: 0.8920, Validation Accuracy: 0.8942, Loss: 0.1258\n",
      "Epoch  13 Batch  100/538 - Train Accuracy: 0.9115, Validation Accuracy: 0.9006, Loss: 0.1246\n",
      "Epoch  13 Batch  150/538 - Train Accuracy: 0.9049, Validation Accuracy: 0.9034, Loss: 0.1245\n",
      "Epoch  13 Batch  200/538 - Train Accuracy: 0.9104, Validation Accuracy: 0.9102, Loss: 0.1128\n",
      "Epoch  13 Batch  250/538 - Train Accuracy: 0.9107, Validation Accuracy: 0.9052, Loss: 0.1222\n",
      "Epoch  13 Batch  300/538 - Train Accuracy: 0.9066, Validation Accuracy: 0.9064, Loss: 0.1174\n",
      "Epoch  13 Batch  350/538 - Train Accuracy: 0.9068, Validation Accuracy: 0.9071, Loss: 0.1157\n",
      "Epoch  13 Batch  400/538 - Train Accuracy: 0.9163, Validation Accuracy: 0.9089, Loss: 0.1172\n",
      "Epoch  13 Batch  450/538 - Train Accuracy: 0.9023, Validation Accuracy: 0.9116, Loss: 0.1224\n",
      "Epoch  13 Batch  500/538 - Train Accuracy: 0.9164, Validation Accuracy: 0.9080, Loss: 0.0953\n"
     ]
    },
    {
     "name": "stderr",
     "output_type": "stream",
     "text": [
      "\r",
      " 70%|███████   | 14/20 [12:57<05:31, 55.31s/it]"
     ]
    },
    {
     "name": "stdout",
     "output_type": "stream",
     "text": [
      "Epoch  14 Batch   50/538 - Train Accuracy: 0.8998, Validation Accuracy: 0.9057, Loss: 0.1076\n",
      "Epoch  14 Batch  100/538 - Train Accuracy: 0.9219, Validation Accuracy: 0.9183, Loss: 0.1041\n",
      "Epoch  14 Batch  150/538 - Train Accuracy: 0.9090, Validation Accuracy: 0.9077, Loss: 0.1064\n",
      "Epoch  14 Batch  200/538 - Train Accuracy: 0.9236, Validation Accuracy: 0.9064, Loss: 0.0991\n",
      "Epoch  14 Batch  250/538 - Train Accuracy: 0.9270, Validation Accuracy: 0.9052, Loss: 0.1116\n",
      "Epoch  14 Batch  300/538 - Train Accuracy: 0.9081, Validation Accuracy: 0.9135, Loss: 0.1021\n",
      "Epoch  14 Batch  350/538 - Train Accuracy: 0.9118, Validation Accuracy: 0.9025, Loss: 0.1034\n",
      "Epoch  14 Batch  400/538 - Train Accuracy: 0.9228, Validation Accuracy: 0.9086, Loss: 0.1067\n",
      "Epoch  14 Batch  450/538 - Train Accuracy: 0.9076, Validation Accuracy: 0.9061, Loss: 0.1157\n",
      "Epoch  14 Batch  500/538 - Train Accuracy: 0.9222, Validation Accuracy: 0.9077, Loss: 0.0886\n"
     ]
    },
    {
     "name": "stderr",
     "output_type": "stream",
     "text": [
      "\r",
      " 75%|███████▌  | 15/20 [13:52<04:35, 55.17s/it]"
     ]
    },
    {
     "name": "stdout",
     "output_type": "stream",
     "text": [
      "Epoch  15 Batch   50/538 - Train Accuracy: 0.9148, Validation Accuracy: 0.9222, Loss: 0.0952\n",
      "Epoch  15 Batch  100/538 - Train Accuracy: 0.9318, Validation Accuracy: 0.9201, Loss: 0.0949\n",
      "Epoch  15 Batch  150/538 - Train Accuracy: 0.9184, Validation Accuracy: 0.9206, Loss: 0.0941\n",
      "Epoch  15 Batch  200/538 - Train Accuracy: 0.9264, Validation Accuracy: 0.9141, Loss: 0.0876\n",
      "Epoch  15 Batch  250/538 - Train Accuracy: 0.9357, Validation Accuracy: 0.9125, Loss: 0.0969\n",
      "Epoch  15 Batch  300/538 - Train Accuracy: 0.9254, Validation Accuracy: 0.9190, Loss: 0.0902\n",
      "Epoch  15 Batch  350/538 - Train Accuracy: 0.9340, Validation Accuracy: 0.9226, Loss: 0.0947\n",
      "Epoch  15 Batch  400/538 - Train Accuracy: 0.9379, Validation Accuracy: 0.9160, Loss: 0.0915\n",
      "Epoch  15 Batch  450/538 - Train Accuracy: 0.9174, Validation Accuracy: 0.9260, Loss: 0.1037\n",
      "Epoch  15 Batch  500/538 - Train Accuracy: 0.9387, Validation Accuracy: 0.9199, Loss: 0.0700\n"
     ]
    },
    {
     "name": "stderr",
     "output_type": "stream",
     "text": [
      "\r",
      " 80%|████████  | 16/20 [14:47<03:40, 55.17s/it]"
     ]
    },
    {
     "name": "stdout",
     "output_type": "stream",
     "text": [
      "Epoch  16 Batch   50/538 - Train Accuracy: 0.9217, Validation Accuracy: 0.9313, Loss: 0.0766\n",
      "Epoch  16 Batch  100/538 - Train Accuracy: 0.9410, Validation Accuracy: 0.9242, Loss: 0.0711\n",
      "Epoch  16 Batch  150/538 - Train Accuracy: 0.9137, Validation Accuracy: 0.9125, Loss: 0.0821\n",
      "Epoch  16 Batch  200/538 - Train Accuracy: 0.9344, Validation Accuracy: 0.9300, Loss: 0.0716\n",
      "Epoch  16 Batch  250/538 - Train Accuracy: 0.9338, Validation Accuracy: 0.9226, Loss: 0.0747\n",
      "Epoch  16 Batch  300/538 - Train Accuracy: 0.9343, Validation Accuracy: 0.9256, Loss: 0.0738\n",
      "Epoch  16 Batch  350/538 - Train Accuracy: 0.9284, Validation Accuracy: 0.9252, Loss: 0.0800\n",
      "Epoch  16 Batch  400/538 - Train Accuracy: 0.9423, Validation Accuracy: 0.9277, Loss: 0.0753\n",
      "Epoch  16 Batch  450/538 - Train Accuracy: 0.9142, Validation Accuracy: 0.9265, Loss: 0.0868\n",
      "Epoch  16 Batch  500/538 - Train Accuracy: 0.9466, Validation Accuracy: 0.9221, Loss: 0.0626\n"
     ]
    },
    {
     "name": "stderr",
     "output_type": "stream",
     "text": [
      "\r",
      " 85%|████████▌ | 17/20 [15:42<02:45, 55.12s/it]"
     ]
    },
    {
     "name": "stdout",
     "output_type": "stream",
     "text": [
      "Epoch  17 Batch   50/538 - Train Accuracy: 0.9305, Validation Accuracy: 0.9292, Loss: 0.0669\n",
      "Epoch  17 Batch  100/538 - Train Accuracy: 0.9539, Validation Accuracy: 0.9263, Loss: 0.0659\n",
      "Epoch  17 Batch  150/538 - Train Accuracy: 0.9404, Validation Accuracy: 0.9373, Loss: 0.0648\n",
      "Epoch  17 Batch  200/538 - Train Accuracy: 0.9402, Validation Accuracy: 0.9327, Loss: 0.0622\n",
      "Epoch  17 Batch  250/538 - Train Accuracy: 0.9500, Validation Accuracy: 0.9403, Loss: 0.0666\n",
      "Epoch  17 Batch  300/538 - Train Accuracy: 0.9423, Validation Accuracy: 0.9261, Loss: 0.0685\n",
      "Epoch  17 Batch  350/538 - Train Accuracy: 0.9308, Validation Accuracy: 0.9217, Loss: 0.0703\n",
      "Epoch  17 Batch  400/538 - Train Accuracy: 0.9436, Validation Accuracy: 0.9370, Loss: 0.0632\n",
      "Epoch  17 Batch  450/538 - Train Accuracy: 0.9174, Validation Accuracy: 0.9343, Loss: 0.0736\n",
      "Epoch  17 Batch  500/538 - Train Accuracy: 0.9549, Validation Accuracy: 0.9434, Loss: 0.0503\n"
     ]
    },
    {
     "name": "stderr",
     "output_type": "stream",
     "text": [
      "\r",
      " 90%|█████████ | 18/20 [16:37<01:50, 55.06s/it]"
     ]
    },
    {
     "name": "stdout",
     "output_type": "stream",
     "text": [
      "Epoch  18 Batch   50/538 - Train Accuracy: 0.9250, Validation Accuracy: 0.9387, Loss: 0.0632\n",
      "Epoch  18 Batch  100/538 - Train Accuracy: 0.9463, Validation Accuracy: 0.9382, Loss: 0.0515\n",
      "Epoch  18 Batch  150/538 - Train Accuracy: 0.9484, Validation Accuracy: 0.9364, Loss: 0.0600\n",
      "Epoch  18 Batch  200/538 - Train Accuracy: 0.9430, Validation Accuracy: 0.9370, Loss: 0.0497\n",
      "Epoch  18 Batch  250/538 - Train Accuracy: 0.9543, Validation Accuracy: 0.9318, Loss: 0.0606\n",
      "Epoch  18 Batch  300/538 - Train Accuracy: 0.9382, Validation Accuracy: 0.9455, Loss: 0.0556\n",
      "Epoch  18 Batch  350/538 - Train Accuracy: 0.9507, Validation Accuracy: 0.9384, Loss: 0.0638\n",
      "Epoch  18 Batch  400/538 - Train Accuracy: 0.9418, Validation Accuracy: 0.9405, Loss: 0.0575\n",
      "Epoch  18 Batch  450/538 - Train Accuracy: 0.9228, Validation Accuracy: 0.9318, Loss: 0.0674\n",
      "Epoch  18 Batch  500/538 - Train Accuracy: 0.9602, Validation Accuracy: 0.9366, Loss: 0.0445\n"
     ]
    },
    {
     "name": "stderr",
     "output_type": "stream",
     "text": [
      "\r",
      " 95%|█████████▌| 19/20 [17:32<00:55, 55.01s/it]"
     ]
    },
    {
     "name": "stdout",
     "output_type": "stream",
     "text": [
      "Epoch  19 Batch   50/538 - Train Accuracy: 0.9436, Validation Accuracy: 0.9395, Loss: 0.0508\n",
      "Epoch  19 Batch  100/538 - Train Accuracy: 0.9582, Validation Accuracy: 0.9498, Loss: 0.0474\n",
      "Epoch  19 Batch  150/538 - Train Accuracy: 0.9490, Validation Accuracy: 0.9432, Loss: 0.0497\n",
      "Epoch  19 Batch  200/538 - Train Accuracy: 0.9482, Validation Accuracy: 0.9428, Loss: 0.0442\n",
      "Epoch  19 Batch  250/538 - Train Accuracy: 0.9563, Validation Accuracy: 0.9368, Loss: 0.0518\n",
      "Epoch  19 Batch  300/538 - Train Accuracy: 0.9522, Validation Accuracy: 0.9464, Loss: 0.0521\n",
      "Epoch  19 Batch  350/538 - Train Accuracy: 0.9501, Validation Accuracy: 0.9426, Loss: 0.0596\n",
      "Epoch  19 Batch  400/538 - Train Accuracy: 0.9420, Validation Accuracy: 0.9407, Loss: 0.0536\n",
      "Epoch  19 Batch  450/538 - Train Accuracy: 0.9252, Validation Accuracy: 0.9439, Loss: 0.0621\n",
      "Epoch  19 Batch  500/538 - Train Accuracy: 0.9640, Validation Accuracy: 0.9350, Loss: 0.0368\n"
     ]
    },
    {
     "name": "stderr",
     "output_type": "stream",
     "text": [
      "100%|██████████| 20/20 [18:27<00:00, 54.91s/it]\n"
     ]
    },
    {
     "name": "stdout",
     "output_type": "stream",
     "text": [
      "Model Trained and Saved\n"
     ]
    }
   ],
   "source": [
    "from tqdm import tqdm\n",
    "\"\"\"\n",
    "DON'T MODIFY ANYTHING IN THIS CELL\n",
    "\"\"\"\n",
    "def get_accuracy(target, logits):\n",
    "    \"\"\"\n",
    "    Calculate accuracy\n",
    "    \"\"\"\n",
    "    max_seq = max(target.shape[1], logits.shape[1])\n",
    "    if max_seq - target.shape[1]:\n",
    "        target = np.pad(\n",
    "            target,\n",
    "            [(0,0),(0,max_seq - target.shape[1])],\n",
    "            'constant')\n",
    "    if max_seq - logits.shape[1]:\n",
    "        logits = np.pad(\n",
    "            logits,\n",
    "            [(0,0),(0,max_seq - logits.shape[1])],\n",
    "            'constant')\n",
    "\n",
    "    return np.mean(np.equal(target, logits))\n",
    "\n",
    "# Split data to training and validation sets\n",
    "train_source = source_int_text[batch_size:]\n",
    "train_target = target_int_text[batch_size:]\n",
    "valid_source = source_int_text[:batch_size]\n",
    "valid_target = target_int_text[:batch_size]\n",
    "(valid_sources_batch, valid_targets_batch, valid_sources_lengths, valid_targets_lengths ) = next(get_batches(valid_source,\n",
    "                                                                                                             valid_target,\n",
    "                                                                                                             batch_size,\n",
    "                                                                                                             source_vocab_to_int['<PAD>'],\n",
    "                                                                                                             target_vocab_to_int['<PAD>']))                                                                                                  \n",
    "with tf.Session(graph=train_graph) as sess:\n",
    "    sess.run(tf.global_variables_initializer())\n",
    "\n",
    "    for epoch_i in tqdm(range(epochs)):\n",
    "        for batch_i, (source_batch, target_batch, sources_lengths, targets_lengths) in enumerate(\n",
    "                get_batches(train_source, train_target, batch_size,\n",
    "                            source_vocab_to_int['<PAD>'],\n",
    "                            target_vocab_to_int['<PAD>'])):\n",
    "\n",
    "            _, loss = sess.run(\n",
    "                [train_op, cost],\n",
    "                {input_data: source_batch,\n",
    "                 targets: target_batch,\n",
    "                 lr: learning_rate,\n",
    "                 target_sequence_length: targets_lengths,\n",
    "                 source_sequence_length: sources_lengths,\n",
    "                 keep_prob: keep_probability})\n",
    "\n",
    "\n",
    "            if batch_i % display_step == 0 and batch_i > 0:\n",
    "\n",
    "\n",
    "                batch_train_logits = sess.run(\n",
    "                    inference_logits,\n",
    "                    {input_data: source_batch,\n",
    "                     source_sequence_length: sources_lengths,\n",
    "                     target_sequence_length: targets_lengths,\n",
    "                     keep_prob: 1.0})\n",
    "\n",
    "\n",
    "                batch_valid_logits = sess.run(\n",
    "                    inference_logits,\n",
    "                    {input_data: valid_sources_batch,\n",
    "                     source_sequence_length: valid_sources_lengths,\n",
    "                     target_sequence_length: valid_targets_lengths,\n",
    "                     keep_prob: 1.0})\n",
    "\n",
    "                train_acc = get_accuracy(target_batch, batch_train_logits)\n",
    "\n",
    "                valid_acc = get_accuracy(valid_targets_batch, batch_valid_logits)\n",
    "\n",
    "                print('Epoch {:>3} Batch {:>4}/{} - Train Accuracy: {:>6.4f}, Validation Accuracy: {:>6.4f}, Loss: {:>6.4f}'\n",
    "                      .format(epoch_i, batch_i, len(source_int_text) // batch_size, train_acc, valid_acc, loss))\n",
    "\n",
    "    # Save Model\n",
    "    saver = tf.train.Saver()\n",
    "    saver.save(sess, save_path)\n",
    "    print('Model Trained and Saved')"
   ]
  },
  {
   "cell_type": "markdown",
   "metadata": {},
   "source": [
    "### Hyperparameter selections and results\n",
    "\n",
    "|embed_input|embed_output|batch_size| rnn_size|keep_prob|    lr|epochs|training_time| train_acc| val_acc|  loss|\n",
    "|--------------------------------------------------------------------------------------------------------------|\n",
    "|         30|          30|       128|       50|     0.50|0.0010|    10|          ?  |    0.6684|    0.7248|0.3571|\n",
    "|         15|          15|       256|      100|     0.50|0.0010|    10|        09:10|    0.7305|    0.7228|0.3687|\n",
    "|         15|          15|       512|      100|     0.75|0.0010|    10|        04:56|    0.6604|    0.6671|0.4456|\n",
    "|         15|          15|       512|      100|     0.75|0.0005|    10|        04:53|    0.6127|    0.6345|0.6592|\n",
    "|         15|          15|       512|      100|     0.75|0.0005|    30|        14:50|    0.8104|    0.7900|0.2596|\n",
    "|         15|          15|       256|      100|     0.75|0.0010|    20|        18:02|    0.8766|    0.8699|0.1053|\n",
    "|         15|          15|       256|      150|     0.75|0.0010|    20|        18:27|__0.9640__|__0.9350__|0.0368|\n",
    "\n",
    "### Analysis\n",
    "\n",
    "It appears that the biggest gains in terms of accuracy came from increasing the __rnn_size__, keep_prob, and epochs.\n",
    "The __rnn_size__ seems especially important.  Increasing the batch size seems to speed training, but it may cost accuracy."
   ]
  },
  {
   "cell_type": "markdown",
   "metadata": {},
   "source": [
    "### Save Parameters\n",
    "Save the `batch_size` and `save_path` parameters for inference."
   ]
  },
  {
   "cell_type": "code",
   "execution_count": 26,
   "metadata": {},
   "outputs": [],
   "source": [
    "\"\"\"\n",
    "DON'T MODIFY ANYTHING IN THIS CELL\n",
    "\"\"\"\n",
    "# Save parameters for checkpoint\n",
    "helper.save_params(save_path)"
   ]
  },
  {
   "cell_type": "markdown",
   "metadata": {},
   "source": [
    "# Checkpoint"
   ]
  },
  {
   "cell_type": "code",
   "execution_count": 27,
   "metadata": {
    "collapsed": true
   },
   "outputs": [],
   "source": [
    "\"\"\"\n",
    "DON'T MODIFY ANYTHING IN THIS CELL\n",
    "\"\"\"\n",
    "import tensorflow as tf\n",
    "import numpy as np\n",
    "import helper\n",
    "import problem_unittests as tests\n",
    "\n",
    "_, (source_vocab_to_int, target_vocab_to_int), (source_int_to_vocab, target_int_to_vocab) = helper.load_preprocess()\n",
    "load_path = helper.load_params()"
   ]
  },
  {
   "cell_type": "markdown",
   "metadata": {},
   "source": [
    "## Sentence to Sequence\n",
    "To feed a sentence into the model for translation, you first need to preprocess it.  Implement the function `sentence_to_seq()` to preprocess new sentences.\n",
    "\n",
    "- Convert the sentence to lowercase\n",
    "- Convert words into ids using `vocab_to_int`\n",
    " - Convert words not in the vocabulary, to the `<UNK>` word id."
   ]
  },
  {
   "cell_type": "code",
   "execution_count": 28,
   "metadata": {},
   "outputs": [
    {
     "name": "stdout",
     "output_type": "stream",
     "text": [
      "Tests Passed\n"
     ]
    }
   ],
   "source": [
    "def sentence_to_seq(sentence, vocab_to_int):\n",
    "    \"\"\"\n",
    "    Convert a sentence to a sequence of ids\n",
    "    :param sentence: String\n",
    "    :param vocab_to_int: Dictionary to go from the words to an id\n",
    "    :return: List of word ids\n",
    "    \"\"\"\n",
    "    # TODO: Implement Function\n",
    "    sentence = sentence.lower()\n",
    "    seq = [vocab_to_int.get(word, vocab_to_int['<UNK>']) for word in sentence.split()]\n",
    "    \n",
    "    return seq\n",
    "\n",
    "\n",
    "\"\"\"\n",
    "DON'T MODIFY ANYTHING IN THIS CELL THAT IS BELOW THIS LINE\n",
    "\"\"\"\n",
    "tests.test_sentence_to_seq(sentence_to_seq)"
   ]
  },
  {
   "cell_type": "markdown",
   "metadata": {},
   "source": [
    "## Translate\n",
    "This will translate `translate_sentence` from English to French."
   ]
  },
  {
   "cell_type": "code",
   "execution_count": 29,
   "metadata": {},
   "outputs": [
    {
     "name": "stdout",
     "output_type": "stream",
     "text": [
      "INFO:tensorflow:Restoring parameters from checkpoints/dev\n",
      "Input\n",
      "  Word Ids:      [71, 156, 125, 129, 178, 75, 43]\n",
      "  English Words: ['he', 'saw', 'a', 'old', 'yellow', 'truck', '.']\n",
      "\n",
      "Prediction\n",
      "  Word Ids:      [357, 228, 105, 331, 331, 198, 1]\n",
      "  French Words: est a vu aux aux . <EOS>\n"
     ]
    }
   ],
   "source": [
    "translate_sentence = 'he saw a old yellow truck .'\n",
    "\n",
    "\n",
    "\"\"\"\n",
    "DON'T MODIFY ANYTHING IN THIS CELL\n",
    "\"\"\"\n",
    "translate_sentence = sentence_to_seq(translate_sentence, source_vocab_to_int)\n",
    "\n",
    "loaded_graph = tf.Graph()\n",
    "with tf.Session(graph=loaded_graph) as sess:\n",
    "    # Load saved model\n",
    "    loader = tf.train.import_meta_graph(load_path + '.meta')\n",
    "    loader.restore(sess, load_path)\n",
    "\n",
    "    input_data = loaded_graph.get_tensor_by_name('input:0')\n",
    "    logits = loaded_graph.get_tensor_by_name('predictions:0')\n",
    "    target_sequence_length = loaded_graph.get_tensor_by_name('target_sequence_length:0')\n",
    "    source_sequence_length = loaded_graph.get_tensor_by_name('source_sequence_length:0')\n",
    "    keep_prob = loaded_graph.get_tensor_by_name('keep_prob:0')\n",
    "\n",
    "    translate_logits = sess.run(logits, {input_data: [translate_sentence]*batch_size,\n",
    "                                         target_sequence_length: [len(translate_sentence)*2]*batch_size,\n",
    "                                         source_sequence_length: [len(translate_sentence)]*batch_size,\n",
    "                                         keep_prob: 1.0})[0]\n",
    "\n",
    "print('Input')\n",
    "print('  Word Ids:      {}'.format([i for i in translate_sentence]))\n",
    "print('  English Words: {}'.format([source_int_to_vocab[i] for i in translate_sentence]))\n",
    "\n",
    "print('\\nPrediction')\n",
    "print('  Word Ids:      {}'.format([i for i in translate_logits]))\n",
    "print('  French Words: {}'.format(\" \".join([target_int_to_vocab[i] for i in translate_logits])))\n"
   ]
  },
  {
   "cell_type": "markdown",
   "metadata": {},
   "source": [
    "## Imperfect Translation\n",
    "You might notice that some sentences translate better than others.  Since the dataset you're using only has a vocabulary of 227 English words of the thousands that you use, you're only going to see good results using these words.  For this project, you don't need a perfect translation. However, if you want to create a better translation model, you'll need better data.\n",
    "\n",
    "You can train on the [WMT10 French-English corpus](http://www.statmt.org/wmt10/training-giga-fren.tar).  This dataset has more vocabulary and richer in topics discussed.  However, this will take you days to train, so make sure you've a GPU and the neural network is performing well on dataset we provided.  Just make sure you play with the WMT10 corpus after you've submitted this project.\n",
    "## Submitting This Project\n",
    "When submitting this project, make sure to run all the cells before saving the notebook. Save the notebook file as \"dlnd_language_translation.ipynb\" and save it as a HTML file under \"File\" -> \"Download as\". Include the \"helper.py\" and \"problem_unittests.py\" files in your submission."
   ]
  },
  {
   "cell_type": "code",
   "execution_count": null,
   "metadata": {
    "collapsed": true
   },
   "outputs": [],
   "source": []
  }
 ],
 "metadata": {
  "anaconda-cloud": {},
  "kernelspec": {
   "display_name": "Python 3",
   "language": "python",
   "name": "python3"
  },
  "language_info": {
   "codemirror_mode": {
    "name": "ipython",
    "version": 3
   },
   "file_extension": ".py",
   "mimetype": "text/x-python",
   "name": "python",
   "nbconvert_exporter": "python",
   "pygments_lexer": "ipython3",
   "version": "3.5.3"
  }
 },
 "nbformat": 4,
 "nbformat_minor": 1
}
